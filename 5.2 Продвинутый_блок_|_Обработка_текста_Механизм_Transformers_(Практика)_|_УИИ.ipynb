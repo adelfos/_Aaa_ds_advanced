{
  "nbformat": 4,
  "nbformat_minor": 0,
  "metadata": {
    "colab": {
      "name": "Продвинутый блок | Обработка текста. Механизм Transformers (Практика) | УИИ",
      "provenance": [],
      "collapsed_sections": [],
      "machine_shape": "hm",
      "include_colab_link": true
    },
    "kernelspec": {
      "name": "python3",
      "display_name": "Python 3"
    },
    "language_info": {
      "name": "python"
    },
    "accelerator": "GPU"
  },
  "cells": [
    {
      "cell_type": "markdown",
      "metadata": {
        "id": "view-in-github",
        "colab_type": "text"
      },
      "source": [
        "<a href=\"https://colab.research.google.com/github/adelfos/ds_advanced/blob/main/5.2%20%D0%9F%D1%80%D0%BE%D0%B4%D0%B2%D0%B8%D0%BD%D1%83%D1%82%D1%8B%D0%B9_%D0%B1%D0%BB%D0%BE%D0%BA_%7C_%D0%9E%D0%B1%D1%80%D0%B0%D0%B1%D0%BE%D1%82%D0%BA%D0%B0_%D1%82%D0%B5%D0%BA%D1%81%D1%82%D0%B0_%D0%9C%D0%B5%D1%85%D0%B0%D0%BD%D0%B8%D0%B7%D0%BC_Transformers_(%D0%9F%D1%80%D0%B0%D0%BA%D1%82%D0%B8%D0%BA%D0%B0)_%7C_%D0%A3%D0%98%D0%98.ipynb\" target=\"_parent\"><img src=\"https://colab.research.google.com/assets/colab-badge.svg\" alt=\"Open In Colab\"/></a>"
      ]
    },
    {
      "cell_type": "markdown",
      "source": [
        "#**Содержание темы**\n",
        "\n",
        "1. [Теория](https://colab.research.google.com/drive/1DbTJLU3qGEcyeZFtWbvUhD_59iTtnEEC?usp=sharing)\n",
        "\n",
        "2. Практика"
      ],
      "metadata": {
        "id": "3Ru7M1T8h65y"
      }
    },
    {
      "cell_type": "markdown",
      "metadata": {
        "id": "W8U5wv0QAKZx"
      },
      "source": [
        "В данном ноутбуке мы обучим трансформер задаче перевода текста с португальского языка на английский.\n",
        "![Новый документ (1).png](data:image/png;base64,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)\n"
      ]
    },
    {
      "cell_type": "markdown",
      "metadata": {
        "id": "Cjdnk9iDNgye"
      },
      "source": [
        "Импорт библиотек"
      ]
    },
    {
      "cell_type": "code",
      "metadata": {
        "id": "pJDFVpe9rAYP"
      },
      "source": [
        "# Библиотека датасетов от tensorfolw\n",
        "import tensorflow_datasets as tfds \n",
        "\n",
        "# Библиотека для обучения НС\n",
        "import tensorflow as tf \n",
        "\n",
        "# Модуль отвечает за время и обработку временнЫх переменных\n",
        "import time \n",
        "\n",
        "# Библиотека для работы с массивами\n",
        "import numpy as np \n",
        "\n",
        "# Библиотека для отрисовки графиков и картинок\n",
        "import matplotlib.pyplot as plt "
      ],
      "execution_count": null,
      "outputs": []
    },
    {
      "cell_type": "markdown",
      "metadata": {
        "id": "_RgrZmbDbc73"
      },
      "source": [
        "Для создания переводчика нам понадобится обучающая выборка с парами одинаковых предложений на португальском и английском языках. Датасет возьмем из библиотеки tensorflow_datasets, который имеет имя ted_hrlr_translate/pt_to_en."
      ]
    },
    {
      "cell_type": "code",
      "metadata": {
        "colab": {
          "base_uri": "https://localhost:8080/",
          "height": 368,
          "referenced_widgets": [
            "1b51032ae95b4934b91ac6eeeb05ae6e",
            "6e1129899ce64039ab2e1f3d538f1b0f",
            "361369ffab924b45993d7b39fd38adcf",
            "bc2b3e97caa446bb9ba2790da99cc3a4",
            "ec7d6419d7484f758c4474c706574e5f",
            "79289e41394641ec91455958caf74199",
            "ff063a5f49db4511801619affd71bcf3",
            "2ed2fafd0433421e891bd3a85cd6a8ea",
            "0df18dc25fde4c71a37402090320e7be",
            "7e7e1a39fd794b7ea24682ac3aff9012",
            "f7696dcc57bf473691ca08f7827e441d",
            "1e9feb5c57cc497e80ab5f9af9497971",
            "284903501c93478788d55b9ac45efb72",
            "c8056fabac5142f19ef8471acc12e65b",
            "f66ed0211b72432dad401f3f0e28552f",
            "5a9a3e1e0023468e86294a9c300eb4ab",
            "78474f914f5147ceae335612068e63c7",
            "582d0e04fdc145a5b37557c61f07261b",
            "045e7d7b7fcc4c6892e0fca10a3d4471",
            "23c5477bec124c4cb2359f9f8b37fcec",
            "8219fb0c07624499b52208bfe752e125",
            "4681526ffbfd4217acb3f75a9b455f49",
            "71c93dc7da9241d984e0556901e681c6",
            "b5272dae9b724710860ad5b0695e6b98",
            "4774a851265747dbbfed1a2d3a8c3e2c",
            "698c42329cac4501b7122da53a7a28da",
            "25b3e1347c0747bc8e250f4ae82fe7f9",
            "0990bb32ab304639890644775f014cf1",
            "c8c91774d8e8408297ed44001323ffa6",
            "2491b53c6a2540688cc66f5e38c77be4",
            "f3f0b8969959485dabc0ceca8d3a5ebd",
            "dbe8cd1f8726413d9b143f6f55369045",
            "09e2380d889e4e5fa9ead0dfd22921fd",
            "a2ad64ae90594bfc905bed328ba20911",
            "9f0e3c9cde684ed8a3a25982ff31a38c",
            "2a86b07a607c4393b99296fbb51b6771",
            "f961aaee2bb440e8813839aebb7b704b",
            "6b47e9326da042ee83968790243d1218",
            "ae0246b2e03341cb8239a097de822633",
            "8c4c8bd2dd7a443baf183486b463263a",
            "07893ac29bf14cc887bfc4a0ec5cb527",
            "560a497bbd6c458f9cfcdef7926a2a64",
            "62150d2831eb4caf98eb6c419d9e3d5d",
            "23a8bfa6e0a34b51b8549c1634941748",
            "b039cfa1eeab462e9c4ae2836a0a926b",
            "be45a8de7dac40ea83be3e3ada1e41bd",
            "17a86f16606a42ddb86de862048c6ae8",
            "86fdff468a7c4685a8d9e8acc549db7b",
            "7990f80c5da94717b830a7a2b82d9695",
            "835d76ab6266468ebb25362187e09022",
            "b64ef0401f524e04be7d39c8510ce867",
            "1e4010a3165048aa841e018b5465bc97",
            "b75f6d0edef04aaeb6eab97e8c2003dd",
            "6e86b4c1c67a4457b7278d49ce3eaeb6",
            "6d053bc7611e441cb9e886a91d00e4dd",
            "81cecc082bcc4cba98a132157ead6079",
            "577ff27e4ab84d14999409d1132b5acd",
            "3cd543a5557546f9b06376c4a216342b",
            "0d17a8f6001b4468bc49fcf5e8c528b8",
            "e6d3b74d81de436489482c53a60254ad",
            "bec371f1f5b249e69869042986d5c938",
            "8fa3de60b8a24bb18a266d6f966c05a7",
            "1d92a0e5ec144dcbb06a78db739c51cc",
            "c75f98d4749b4da38f305d31a51399a3",
            "dd66200f75ee48299f236250b53daea0",
            "3cec9b95f3b24aceb86c225b8f3ff95a",
            "61f6af264ff6435e8a015b362d2abfc0",
            "6283973174b64473b6b9baa7ef15fa4d",
            "81cdb658f3994cd4892f4c2d252187cb",
            "2c6fa50a191741ab99e8bb7902c25f45",
            "286097a16823490e8e28ab2a522eb030",
            "2e96f1007f944001b0db38c535a1742f",
            "82493d55f84844da831174ee336e89fb",
            "a4d6a221cdea44a08a1894dfdda4afcc",
            "a7e24860d4f04083b66f141525793a49",
            "83fa1d3d24a34ccf92ab1afc0d3b8d51",
            "3335ec63300b46adabdfaec73f5b1e26",
            "6f76704c54b24662908fb2eb94cd1522",
            "a74f0d1cefdf4b63be5389812e867d5e",
            "a5b6f5c522064dd680c36981eab9c525",
            "1902921397184b6bbc03110c03b596d4",
            "f77ebb7317c6459f8d9506c2b0e564a8",
            "db99492957e045d3859c9baf353e1624",
            "312ccd3f4a124fd88811a2e767954cf2",
            "dc567b17fa5f47d485d93ab9df0f779c",
            "1398faddb7594f16a5dae49a9567e1c7",
            "67e5c983c82643bab9faeed49f0d247e",
            "42819844b92c4d8ba18536e9f91d35be",
            "6ff26418df11478eb8c476583c1a3c58",
            "45801005fae147f291cc8d7636d8b535",
            "6a01cbfc01894475b4f73771de4d8c9e",
            "5f09aa9dea79443fad99bd5956227a9e",
            "26206aa8e0994d10b4cd11ede4c2e002",
            "a2836c2f8c474daa847750134508bfbe",
            "3dd52bfb1ed54160b37c53a498fdd55f",
            "dde158715b644824817c7befe646dd43",
            "c183a866bb7c439a89feac4cf2be7a7d",
            "7e76f57f6fe442f0b726253885ec9cec",
            "0b32df15657547408bef1c66724e9bcb"
          ]
        },
        "id": "dhnpa99mrGQL",
        "outputId": "1daf4b34-74f3-4750-82d1-70d0a6b482ff"
      },
      "source": [
        "examples, metadata = tfds.load('ted_hrlr_translate/pt_to_en', # Имя датасета\n",
        "                               with_info=True,                # Вывести информацию о датасете\n",
        "                               as_supervised=True)            # Вывод будет иметь формат (input, label)\n",
        "\n",
        "# Разделяем на обучающую и тестовую выборки\n",
        "train_examples, val_examples = examples['train'], examples['validation'] "
      ],
      "execution_count": null,
      "outputs": [
        {
          "output_type": "stream",
          "name": "stdout",
          "text": [
            "\u001b[1mDownloading and preparing dataset ted_hrlr_translate/pt_to_en/1.0.0 (download: 124.94 MiB, generated: Unknown size, total: 124.94 MiB) to /root/tensorflow_datasets/ted_hrlr_translate/pt_to_en/1.0.0...\u001b[0m\n"
          ]
        },
        {
          "output_type": "display_data",
          "data": {
            "application/vnd.jupyter.widget-view+json": {
              "model_id": "1b51032ae95b4934b91ac6eeeb05ae6e",
              "version_minor": 0,
              "version_major": 2
            },
            "text/plain": [
              "Dl Completed...: 0 url [00:00, ? url/s]"
            ]
          },
          "metadata": {}
        },
        {
          "output_type": "display_data",
          "data": {
            "application/vnd.jupyter.widget-view+json": {
              "model_id": "1e9feb5c57cc497e80ab5f9af9497971",
              "version_minor": 0,
              "version_major": 2
            },
            "text/plain": [
              "Dl Size...: 0 MiB [00:00, ? MiB/s]"
            ]
          },
          "metadata": {}
        },
        {
          "output_type": "display_data",
          "data": {
            "application/vnd.jupyter.widget-view+json": {
              "model_id": "71c93dc7da9241d984e0556901e681c6",
              "version_minor": 0,
              "version_major": 2
            },
            "text/plain": [
              "Extraction completed...: 0 file [00:00, ? file/s]"
            ]
          },
          "metadata": {}
        },
        {
          "output_type": "stream",
          "name": "stdout",
          "text": [
            "\n",
            "\n",
            "\n"
          ]
        },
        {
          "output_type": "display_data",
          "data": {
            "application/vnd.jupyter.widget-view+json": {
              "model_id": "a2ad64ae90594bfc905bed328ba20911",
              "version_minor": 0,
              "version_major": 2
            },
            "text/plain": [
              "0 examples [00:00, ? examples/s]"
            ]
          },
          "metadata": {}
        },
        {
          "output_type": "stream",
          "name": "stdout",
          "text": [
            "Shuffling and writing examples to /root/tensorflow_datasets/ted_hrlr_translate/pt_to_en/1.0.0.incompleteAM60QZ/ted_hrlr_translate-train.tfrecord\n"
          ]
        },
        {
          "output_type": "display_data",
          "data": {
            "application/vnd.jupyter.widget-view+json": {
              "model_id": "b039cfa1eeab462e9c4ae2836a0a926b",
              "version_minor": 0,
              "version_major": 2
            },
            "text/plain": [
              "  0%|          | 0/51785 [00:00<?, ? examples/s]"
            ]
          },
          "metadata": {}
        },
        {
          "output_type": "display_data",
          "data": {
            "application/vnd.jupyter.widget-view+json": {
              "model_id": "81cecc082bcc4cba98a132157ead6079",
              "version_minor": 0,
              "version_major": 2
            },
            "text/plain": [
              "0 examples [00:00, ? examples/s]"
            ]
          },
          "metadata": {}
        },
        {
          "output_type": "stream",
          "name": "stdout",
          "text": [
            "Shuffling and writing examples to /root/tensorflow_datasets/ted_hrlr_translate/pt_to_en/1.0.0.incompleteAM60QZ/ted_hrlr_translate-validation.tfrecord\n"
          ]
        },
        {
          "output_type": "display_data",
          "data": {
            "application/vnd.jupyter.widget-view+json": {
              "model_id": "61f6af264ff6435e8a015b362d2abfc0",
              "version_minor": 0,
              "version_major": 2
            },
            "text/plain": [
              "  0%|          | 0/1193 [00:00<?, ? examples/s]"
            ]
          },
          "metadata": {}
        },
        {
          "output_type": "display_data",
          "data": {
            "application/vnd.jupyter.widget-view+json": {
              "model_id": "6f76704c54b24662908fb2eb94cd1522",
              "version_minor": 0,
              "version_major": 2
            },
            "text/plain": [
              "0 examples [00:00, ? examples/s]"
            ]
          },
          "metadata": {}
        },
        {
          "output_type": "stream",
          "name": "stdout",
          "text": [
            "Shuffling and writing examples to /root/tensorflow_datasets/ted_hrlr_translate/pt_to_en/1.0.0.incompleteAM60QZ/ted_hrlr_translate-test.tfrecord\n"
          ]
        },
        {
          "output_type": "display_data",
          "data": {
            "application/vnd.jupyter.widget-view+json": {
              "model_id": "6ff26418df11478eb8c476583c1a3c58",
              "version_minor": 0,
              "version_major": 2
            },
            "text/plain": [
              "  0%|          | 0/1803 [00:00<?, ? examples/s]"
            ]
          },
          "metadata": {}
        },
        {
          "output_type": "stream",
          "name": "stdout",
          "text": [
            "\u001b[1mDataset ted_hrlr_translate downloaded and prepared to /root/tensorflow_datasets/ted_hrlr_translate/pt_to_en/1.0.0. Subsequent calls will reuse this data.\u001b[0m\n"
          ]
        }
      ]
    },
    {
      "cell_type": "markdown",
      "metadata": {
        "id": "8Xf99UKtuVBa"
      },
      "source": [
        "Взглянем на примеры:"
      ]
    },
    {
      "cell_type": "code",
      "metadata": {
        "colab": {
          "base_uri": "https://localhost:8080/"
        },
        "id": "aEIyigMAuVbh",
        "outputId": "f7aadfc9-70f3-4a96-f0bf-afbfb6cf19ea"
      },
      "source": [
        "# Выведем первые 5 пар предложений\n",
        "for pt, en in train_examples.take(5):\n",
        "  print('Португальский:', pt.numpy())\n",
        "  print('Английский:   ', en.numpy())\n",
        "  print()"
      ],
      "execution_count": null,
      "outputs": [
        {
          "output_type": "stream",
          "name": "stdout",
          "text": [
            "Португальский: b'e quando melhoramos a procura , tiramos a \\xc3\\xbanica vantagem da impress\\xc3\\xa3o , que \\xc3\\xa9 a serendipidade .'\n",
            "Английский:    b'and when you improve searchability , you actually take away the one advantage of print , which is serendipity .'\n",
            "\n",
            "Португальский: b'mas e se estes fatores fossem ativos ?'\n",
            "Английский:    b'but what if it were active ?'\n",
            "\n",
            "Португальский: b'mas eles n\\xc3\\xa3o tinham a curiosidade de me testar .'\n",
            "Английский:    b\"but they did n't test for curiosity .\"\n",
            "\n",
            "Португальский: b'e esta rebeldia consciente \\xc3\\xa9 a raz\\xc3\\xa3o pela qual eu , como agn\\xc3\\xb3stica , posso ainda ter f\\xc3\\xa9 .'\n",
            "Английский:    b'and this conscious defiance is why i , as an agnostic , can still have faith .'\n",
            "\n",
            "Португальский: b\"`` `` '' podem usar tudo sobre a mesa no meu corpo . ''\"\n",
            "Английский:    b'you can use everything on the table on me .'\n",
            "\n"
          ]
        }
      ]
    },
    {
      "cell_type": "markdown",
      "metadata": {
        "id": "lbi4CkWMt7cq"
      },
      "source": [
        "Создадим отдельные токенайзеры для каждого языка.\n",
        "\n",
        "Стандартные токенайзеры, на основе какого-либо текста, формируют словари частотности слов, из которых этот текст и состоит. Но можно пойти дальше и не только делить текст на слова, но и слова делить на части.\n",
        "![image.png](data:image/png;base64,iVBORw0KGgoAAAANSUhEUgAAAyAAAAEmCAYAAACatvRcAAAgAElEQVR4Ae2d3Y7dxpW251bmBpILGF9AnNNB4pwEsCfID2ADA8QDH00COydjwwc2EFjJQeIR4g+YkWNg/CGJjQRwFCABkkgH8xmwYR9ZlhT9dqtbktWt7kgyP7zbWlur2eRmkZubrJ+ngN3cmyxWrXpWkVVvVxX5DxUBAhCAAAQgAAEIQAACEIDARAT+YaJ8yAYCEIAABCAAAQhAAAIQgECFAKESQAACEIAABCAAAQhAAAKTEUCATIaajCAAAQhAAAIQgAAEIAABBAh1AAIQgAAEIAABCEAAAhCYjAACZDLUZAQBCEAAAhCAAAQgAAEIIECoAxCAAAQgAAEIQAACEIDAZAQQIJOhJiMIQAACEIAABCAAAQhAAAFCHYAABCAAAQhAAAIQgAAEJiOAAJkMNRlBAAIQgAAEIAABCEAAAggQ6gAEIAABCEAAAhCAAAQgMBkBBMhkqMkIAhCAAAQgAAEIQAACEECAUAcgAAEIQAACEIAABCAAgckIIEAmQ01GEIAABCAAAQhAAAIQgAAChDoAAQhAAAIQgAAEIAABCExGAAEyGWoyggAEIAABCEAAAhCAAAQQINQBCEAAAhCAAAQgAAEIQGAyAgiQyVCTEQQgAAEIQAACEIAABCCAAKEOQAACEIAABCAAAQhAAAKTEUCATIaajCAAAQhAAAIQgAAEIAABBAh1AAIQgAAEIAABCEAAAhCYjAACZDLUZAQBCEAAAhCAAAQgAAEIIECoAxCAAAQgAAEIQAACEIDAZAQQIJOhJiMIQAACEIAABCAAAQhAAAFCHYAABCAAAQhAAAIQgAAEJiOAAJkMNRlBAAIQgAAEIAABCEAAAggQ6gAEIAABCEAAAhCAAAQgMBkBBMhkqMkIAhCAAAQgAAEIQAACEECAUAcgAAEIQAACEIAABCAAgckIIEAmQ01GORE4ODiotre3qytXrlQXLlyoPv30Uz4woA5QB6gDBdQB3fN171cbcHh4mFPTRlkgMBkBBMhkqMkoFwI7Ozt0MgroZCAqEdXUAepASB3Y3d3NpXmjHBCYjAACZDLUZJQDgcuXLy/Fx9bWVrW3t1fdv38/h6JRBghAAAIQCCCge77u/WoDTKCobSBAAALhBBAg4ayIWTgB/ZdLjc3Fixeru3fvFk6D4kMAAhCAgNoCm4bLSAj1AQLhBBAg4ayIWTABrfmw/3QhPgquCBQdAhCAQI3A/v7+sn1gTUgNDj8h0EIAAdICht0Q8AS02FACRFsCBCAAAQhAwBOgjfA0+A6BbgIIkG5GxIDA4oknEiCMflAZIAABCECgTsBGQfR0LAIEINBNAAHSzYgYEKjOnz+/GAF58OABNCAAAQhAAAJHCGhhuv5JpfUgBAhAoJsAAqSbETEgsJzfCwoIQAACEIBAEwFbJ9h0jH0QgMBRAgiQozz4BYFGAjQsjVjYCQEIQAACDwnQTlAVIBBOAAESzoqYBROgYSnY+RQdAhCAQAAB2okASESBwEMCCBCqAgQCCNCwBEAiCgQgAIGCCdBOFOx8it6bAAKkNzJOKJEADUuJXqfMEIAABMIJ0E6EsyImBBAg1AEIBBCgYQmARBQIQAACBROgnSjY+RS9NwEESG9knFAiARqWEr1OmSEAAQiEE6CdCGdFTAggQKgDEAggQMMSAIkoEIAABAomQDtRsPMpem8CCJDeyDihRAI0LCV6nTJDAAIQCCdAOxHOipgQQIBQByAQQICGJQASUSAAAQgUTIB2omDnU/TeBBAgvZFxQokEaFhK9Ho8Zb54+1r11senq1fPnlp8Xn//19WHW5/EYyCWQAACFe0ElQAC4QQQIOGsiFkwARqWgp0/Y9H/fOmD6htv/7D6xxP/fOzzpZ99c0bLyNoTMP888fYP/O5j30+c3q++/PyNxefMuXvHjrMjbQK0E2n7D+unJYAAmZY3uSVKgIYlUcclbPYvP/r9MdFhHV1tuzq7Q4qukRWNsjC60o+e+aXLJwiQflxTi007kZrHsHdOAgiQOemTdzIEaFjmc9XfP/yw2nriicVn7803RzHEp3nz+edHSXPMRDTyYZ1abb/9zovHRMHYIuHn7/9qmadGV24d3BmzSFmnZb5CgGTt5s7C0U50IiICBJYEECBLFHyBQDsBGpZ2Nps+4sVCKQLET7t69r0fbxrxIv1Xzvz3UoCoQz22wJmkEDNlggCZCXxk2dJOROYQzImaAAIkavdgXCwEaFjm80RpAkQLzq1D+9gvvjsZeI26aORDeWvEhRBOwPzFCEg4sxxj0k7k6FXKtCkCCJBNkSXdrAjQsMznztIEyG8/+etSgLzwx9cnBy8BROhHAAHSj1eusWkncvUs5doEAQTIJqiSZnYEaFjmc2lpAsRPhZIYIcRPAAESv4+msJB2YgrK5JELAQRILp6kHBslQMOyUbwrEy9ZgGhaFCF+AgiQ+H00hYW0E1NQJo9cCCBAcvEk5dgoARqWjeJdmTgCZCUeDkZAAAESgRMiMIF2IgInYEIyBBAgybgKQ+ckQMMyH30EyHzsyTmMAAIkjFPusWgncvcw5RuTAAJkTJqklS0BGpb5XDu3AFH++tw7d+4YhM/v3Kn233mnun3iRHXzhReWnzsnT1aHZ88ei9+0Q4+7/culD5aff3vvx8tF6HoxoD9m35ve0eHTqefz1senqx/96fXFW9X1iN/vvPtSVV9srjQt/aGP4P3dJ389ko/lpXLU86vbWP+9yhbZqjTFSnnYR2WUDesG2ar0xcnS1lbpN02LG0uAfHTlfnX203uLz+27nw8uxljpDDag0BNpJwp1PMUeRAABMggbJ5VGgIZlPo/PLUDsJYj+hYUSHhIZdqxte+OZZxqFi6epR7daBzZ029QJ9ulY+hISj73xvcb0LY5tlabl3/U4WTvHthI4bflYmtpKMDSJJ0vHb+08b4vOlQiwxwVbnPpWtgwRUZZ+Pb36b6XvfWDHva2+LPa9603o//4/d6ovP39j8Xnjz3fttN7bx1/dXaZzafdB7/M5YRgB2olh3DirTAIIkDL9Tql7EqBh6QlsxOixCRCNhOw899xSfNx4+ulK4uT2a68ttvrtBcn2U0+tFCFeOFhHtmvrO7+G2qejfb/86PdLQeHT07tF9LsehggQddg1SlBPX7boaV56n8jjp75/5LjEQ4g4sDStU69zvnrq2WVaKoeO6UWN2lq57LzQfIyDyuLTVzpKQ2mrHNrWy6IyKlieirMqdAmQM+fuLYXD1396c1VSrcfe++hwmca//Oet1ngcGJ8A7cT4TEkxXwIIkHx9S8lGJEDDMiLMnknFJEA08iFBIYEh0SHbmoL2HxEpzzzTFK1xn38Mb5PQaDypqhYdZOsIS3zYKIE6zfqtDvaq0FeA1DvsyqfNXk1pUufc7JNtXVOyLK7OU16+PG35aL8XCRqp6Cq3MfHiQ3mJWVOQ3RI9Zp8XeusKEOX3lVfWG73woyhv/+9BUxHYtyECtBMbAkuyWRJAgGTpVgo1NgEalrGJhqcXkwAxUaHRjq4gseJHQw5On+46ZXF8DAFinXV1lENDXwHi16qE5uM77lpTsSpYB1+desXV75B8JDi8CGkTEj5vz1wjKSGiRSMyxtnb6tOtf+8aAVF8H+eld/fqSXT+fuzFncUIyD/9x061zjqSzoyIcIwA7cQxJOyAQCsBBEgrGg5A4BEBGpZHLKb+FosAsWlVIeLDGB2eObOcjnXr5Zdt98qt7wy3/ae/KQE/whDaWffp9BEgPq46+32Ct3PVixatU2/bEPFhdvi3yXeNSmhEwwuJkOlhlo/nIDu78vLiQtOtmoLWbNg6EK3l6BP89CuNhBCmJUA7MS1vckubAAIkbf9h/UQEaFgmAt2QTUwCRCMafcP2k08uRIimboWEMQSIOtQh/8X39vjOdFdH2i8475pK5fPQd8U3UbFqFMTiaDukPCYqtF0VPO8X/vj6qqiNx/yoThe3EAGiTP71v24vRYhERWjw06/6nBeaPvFWE6CdWM2HoxDwBBAgngbfIdBCgIalBcwEu2MSIKHTqDwWrRWx0RO/v+277xBLFIQGdX6t0z6kIx0qQHy8PqMSvhx+ilSbULKyaCsmfYPn0ZaH0lxHTOl8pW22jiVAtHbDRkH6jGTY9CutIyFMT4B2Ynrm5JguAQRIur7D8gkJ0LBMCLuWVSwCZMjoh4qiqVcmQJreJVIr7qKzbR3aoQKkz3mWvxcWqzrS/j/+faYrWT7a/vz9Xy077W22GgNtVwkIn67/LhFmabTl4Udj+k4l83lZPqu4KX7oCIjiag2HiZCQtRxetAxZO+LLw/dhBGgnhnHjrDIJIEDK9Dul7kmAhqUnsBGjxyJA/HtA+hRv7803lwJEZekKY4yAtHW4V+UdKkBsxKBralNoXm2jG9ap13ZICOHo14oMGTUyu8zWMQWIn04V8jQrP21LLyIkTE+AdmJ65uSYLgEESLq+w/IJCdCwTAi7lhUCpAak5ac6v9YR3qQAsTy6OtstZi52e7EzpwDxIkWjMkNDKJM+IyASETYC8q2Tq9/noRESi/u1nwx7f8jQsnPeIwK0E49Y8A0CXQQQIF2EOA6BqqpoWOarBgiQMPZTCBAvHKzTve62beTBpxtG4GgsLy7aBFlInKOpNv8yW7tEWR8BopwkJkxYrHqjuZ9+tc4b1JtLx95QArQToaSIB4GqQoBQCyAQQICGJQDShqIgQMLApipA2jrt1qnXdkgIERchcULyNlvbymJp9BUgEhMmQHRuW/DTr1YJlbbz2T8OAdqJcTiSShkEECBl+JlSrkmAhmVNgGucjgAJgze1AFF+6sCv+2l7UaB16ksWIH5qVds7QXwcCRHCfARoJ+ZjT87pEUCApOczLJ6BAA3LDNAfZokACWM/tQCR8NhkQIB8QdePbjQtLvejJCGL1Tfps9LTpp0ovQZQ/j4EECB9aBG3WAI0LPO5HgESxn5qAaL8NhkQIF/Q7Xq7+dd/+sU6ET22N+RxvZv0Welp006UXgMofx8CCJA+tIhbLAEalvlc7wWI3qkxRvBp3jl5cmWS9g4PHsP7BSYTBl899exKbusetHy0HRJC1nf495HE9hQsX2Z7J4heNOiD1nvYGpE+Lyz0afB9PAK0E+OxJKX8CSBA8vcxJRyBAA3LCBAHJvHg+vXlezR2nntuYCpHT/Pv5tD3VQEBcpTOY7/47vJxv0NeEHg0tfZfUwgQ/1SvoW91VwnM1q5Rob6L0I2OXixoQsNPs/LTrzRSQpiXAO3EvPzJPS0CCJC0/IW1MxGgYZkJ/MNs9RZyEwKf37mztjESMpaeRkNWBYvHCMgXlPwbxtsWkK/iGXrMOvWbHAGRLZaPXrA4NFgamxIgfqTDLzS36VdfeWV3qOmcNyIB2okRYZJU9gQQINm7mAKOQYCGZQyKw9O4/dprS8HQNWLRlYuffrX95JNd0Zf5IkC+QPXh1iejdNq7wFunftMC5NvvvLgsT9v7QlbZqlEgs3VTAkT5+3eCaK2HFyUaISHMT4B2Yn4fYEE6BBAg6fgKS2ckQMMyI/yqqu6dO7cUAttPPVVpWtbQcPOFF5ZphYgZRkCOk1ZH2zrdQ5+GdfH2teMJuz2W/qYFyG8/+euyLN94+4fOgrCv33n3peX5mxQg9ZcN+ulcTU/HCrOeWGMSoJ0YkyZp5U4AAZK7hynfKARoWEbBuFYifhREU6iGTMW6feLEUnxoWldIGgiQ427zoyASCH2nYim+znv9/V8fT/zhnqkEiLJ7/NT3lyKiT1msHGbrJgWIf9+Hpl7pvSBaF6KREUIcBGgn4vADVqRBAAGShp+wcmYCNCwzO6CqFmLBr9248cwzVdf6DbNaIyZ6gpaJCW01qhIS7BymYB2lVe98rxITdqamK/3oT68vO/urFn5bp17bISHkKViWrl+MrvxCRMirZ08tyvGln31zWZ5NChDZqidd2WJ022ohOiEOArQTcfgBK9IggABJw09YOTMBGpaZHfAwewkJL0IkDjSlav+dd44JCo1uHJ49W/lRD8XXuo/DM2eCC4QAaUflH2OrjrsezfvWx6er+tOxNN1KAkULvU1YaNRhVbB42g4JfQSI0q8LKk2t+t0nfz1Slr9c+uBYObx42bQAOXPu3jEBwrs/htSOzZxDO7EZrqSaJwEESJ5+pVQjE6BhGRnoGslJWOjdHSYM+mw1ihE68mEmWvqMgBiRo1utofCjAF44tH3Xk7S6gj+3K27T8b4CRGnURYi3of5dZVbZFezYpgWI8tITr2z0wz8Ra2EIf2YlQDsxK34yT4wAAiQxh2HuPARoWObhvipXjYZoXYh/RK+JhfpW06/6jHr4fC0tBIincvS7RjzU4ffvCLFOuW3VYdeUq9AnTdl52g4JQwSI8tH6Fv9kLG+HvquMElB+lEfCQ8emECBt7wQZwohzxiVAOzEuT1LLmwACJG//UrqRCNCwjARyQ8lIjGg9yP5vflPpyVb6HJw+HbxGZENmFZmsOvAaGZAA0EeCI1R0xARMAkN2a5pZTOWwdSB6OzohLgK0E3H5A2viJoAAids/WBcJARqWSByBGRAomIB/EpaECCEuArQTcfkDa+ImgACJ2z9YFwkBGpZIHIEZECiYgH8XiBakE+IiQDsRlz+wJm4CCJC4/YN1kRCgYYnEEZgBgYIJfOvkrcUCdC1EJ8RHgHYiPp9gUbwEECDx+gbLIiJAwxKRMzAFAgUS0NvO7elXegs6IT4CtBPx+QSL4iWAAInXN1gWEQEaloicgSkQKJCAjX5IhFzafVAggfiLTDsRv4+wMB4CCJB4fIElEROgYYnYOZgGgYwJaOH5D95+9AZ0Rj/idTbtRLy+wbL4CCBA4vMJFkVIgIYlQqdgEgQyJKCpVmc/vVf9/uO/Vz/5w371+KuPXjz4tZ/crHjzebxOp52I1zdYFh8BBEh8PsGiCAnQsEToFEyCQIYENMJhaz38FvERv7NpJ+L3ERbGQwABEo8vsCRiAjQsETsH0yCQEYG6ANELB7WPkY/4nUw7Eb+PsDAeAgiQeHyBJREToGGJ2DmYBoHMCGiRud7zwWLztBxLO5GWv7B2XgIIkHn5k3siBGhYEnEUZkIAAhCYiQDtxEzgyTZJAgiQJN2G0VMToGGZmjj5QQACEEiLAO1EWv7C2nkJIEDm5U/uiRCgYUnEUZgJAQhAYCYCtBMzgSfbJAkgQJJ0G0ZPTeDixYuVGpf79+9PnTX5QQACEIBA5ATUNqiNUFtBgAAEugkgQLoZEQMC1bVr1xaNy/7+PjQgAAEIQAACRwiobZAAUVtBgAAEugkgQLoZEQMC1e7u7qJxuX79OjQgAAEIQAACRwhcvXp10UaorSBAAALdBBAg3YyIAYHq3r17i8ZF/+FiFIQKAQEIQAACRsBGP86fP79oK2w/WwhAoJ0AAqSdDUcgcITArVu3FiJEc3zv3r175Bg/IAABCECgPAJqCy5cuLBoG9RGECAAgTACCJAwTsSCwILA5cuXlyMhW1tbi9GQBw8eQAcCEIAABAohoAXne3t7ldoAjYrro7aBAAEIhBNAgISzIiYEFgR2dnaWjY41Pmy/aIThAAfqAHWgtDrAug86BxDoTwAB0p8ZZ0CgOjg4qLa3t6srV64sh99La3QpLx1N6gB1oMQ6oClXuverDTg8PKRFhAAEBhBAgAyAxikQgAAEIAABCEAAAhCAwDACCJBh3DgLAhCAAAQgAAEIQAACEBhAAAEyABqnQAACEIAABCAAAQhAAALDCCBAhnHjLAhAAAIQgAAEIAABCEBgAAEEyABonAIBCEAAAhCAAAQgAAEIDCOAABnGjbMgAAEIQAACEIAABCAAgQEEECADoHEKBCAAgZIJ6NGj9vjVzz77rGQUlB0CEIAABAYQQIAMgMYpEIAABEomcPfu3aUA4SVsJdcEyg4BCEBgGAEEyDBunAUBCECgWAISIBcvXly8hJMRkGKrAQWHAAQgMJgAAmQwOk6EAAQgAAEIQAACEIAABPoSQID0JUZ8CEAAAhCAAAQgAAEIQGAwAQTIYHScCAEIQAACEIAABCAAAQj0JYAA6UuM+BCAAAQgAAEIQAACEIDAYAIIkMHoOBECEIBAeQT29vaq7e3t5VOwbt++XbEQvbx6QIkhAAEIrEMAAbIOPc6FAAQgUBiBa9euLcWHvQvk8uXLhVGguBCAAAQgsA4BBMg69DgXAhCAQEEEHjx4cEx8mAi5d+9eQSQoKgQgAAEIrEMAAbIOPc6FAAQgUBABvXRQguPKlStLIbK1tbX4ri0BAhCAAAQgEEIAARJCiTgQgAAEIFDduHFjITb0IkKJEH008iFRohcTEiAAAQhAAAIhBBAgIZSIAwEIQAACCwKHh4fHSGhhOgECEIAABCAQSgABEkqKeBCAAAQgAAEIQAACEIDA2gQQIGsjJAEIQAACEIAABCAAAQhAIJQAAiSUFPEgAAEIFEjg5s2blZ5+1ScwJasPLeJCAAIQKI8AAqQ8n1NiCEAAAkEE7IWDWmxeDxIm+tSDLVTXuQQIQAACEIBAEwEESBMV9kEAAhAomIBGPK5fv754utX58+erpoXn9v6POibF1Tk6jgip0+E3BCAAAQiIAAKEegABCEAAAkcI2NvO28SHIrcJEB3zIoS3pB9Byw8IQAACEECAUAcgAAEIQKBOQAJC7/VoGvmwuKsEiOKYCPnss8/sFLYQgAAEIACBBQFGQKgIEIAABCDQm0CXAOmdICdAAAIQgEAxBBAgxbiagkIAAhA4TuDOnTvVkKdW6W3o+vQNenP6kPP65kN8CEAAAhCIlwACJF7fYBkEIACBjRGQCLh69epiLceFCxd6P2p3qGGWp7YIkaEUOQ8CEIBA2gQQIGn7D+shAAEI9CZgi8w1jUprPaZcp7G7u7t8SpbylxDp+56R3gXmBAhAAAIQiIoAAiQqd2AMBCAAgc0TMBGg7Rydf+VpNjS9Y2TzBMgBAhCAAATmJIAAmZM+eUMAAhDYEAGttbh9+/aio1/PYg7RUbdBv2WH7KwHTc3a39+v7+Y3BCAAAQhkQgABkokjKQYEIAABEdDbyfXuDXtKldZ3bCJY+ptI2+yX7XohohbKxyKaNlFe0oQABCBQGgEESGkep7wQgEDWBOwt5BIIWuuh9R2b6LxvUoDcunWrunTp0lJEKa+mkZKsHUnhIAABCGRMAAGSsXMpGgQgkA8BvdhPIwE7OzvLp1c1PUVKgmPIY3X7ktqkADFbJDpUnhs3btiu5Vai6m9/+9tihESjPgcHBxsRWssM+QIBCEAAAqMRQICMhpKEIAABCKxHQB1udaSb3kCuRdvW6betRgrmCmbDXPlLZJkNtm1a0N62zmQuu8kXAhCAAASqCgFCLYAABCAwAYE2YaFRDP0n3zrR2m5tbR2zSPG0X0KkaeTj2Akb3qHOflOHf8PZHkleQs1GSGRLkyDzwk2c9dhfnUOAAAQgAIH5CCBA5mNPzhCAQMQE9J9ziYamoCc0adqP/9TjSSR4UaHvTR12H0/v5GjrSNfT53cYAYkScfW+aBIqEncWx4RKk9CTeJH/VTfss4k1NmGlIxYEIACBNAkgQNL0G1ZDYC0C1rm2DpS2TdN+1AHzney2/x6rU6Zj/tP0X+ameE2dPM3592npe5N9ofHUqbfOpW2bANoxvx0aT9OpfDqyQYvC64EpQnUim/stn6i+NQkG/3JG81tT3WyqS03x6qNaSrMp1Ou5fjeFkHi6RurxmtbPDImnp5HpXtB0Xav8/j6h701MbIqhtgQIQKBsAgiQsv1P6TMjoIbdOgLqMKgz0tQBUefAOlm2VceqHvz0FYunffUwdrzQTt7Y8ayM2uopTE1MVHabCqVy26fOhN/pElglVNQBl/9VN+zTJI59XbLvTUTsmN8OjRd6Xa8Tr0lEj339i7Hdx7TViBOipalWsA8C6RJAgKTrOywvjICegKTGeHt7eyEsJDDqIbRjoQ6TdZ5s2yRU1OhbB1udAqXf1BGwDpuO22edeLLP0rFt03+t6/HqPPgNgdgJWP322yab/XF9bxI9ukY2GU8L/5V+PWif3Sds2xRP9xDdb/wjlhW/HhTHCzJ9b3qym+5Zuh/qvqj7o0Zym+4T9fT5DQEIzE8AATK/D7AAAksCakD19uqmUG+Q9bspWAfAOgtNHYGm89gHgT4EbKpPn3OIC4EQAhJXdh/TVqMuTYKrSag0xdO+pn+IhNhCHAhAYDMEECCb4UqqEAgmoP/i2ZufTWQ0NZbWIK8aiQjOlIgQWJOA1dU1k+F0CAwmoH+u6H6oe6NNi2tK7MKFC4sRFW0lnDViQoAABOYlgACZlz+5F0RAoqJpeoBf/Kr/6KkhbRIgBaGiqAkQQIAk4CRMXBDQffX8+fPLaV16KhoBAhCYlwACZF7+5J45AQ39683VNsLR9PhPxWGaVOYVIcPiIUAydGrmRdI/djQ1VaMm9aD9qtNaW6f1JE3/LKqfw28IQGA4AQTIcHacCYGVBCQ2rJOmrf4D17TQe2UiHIRApASsbkdqHmZBoBeB+v1a9bvpH0a9EiUyBCDQSgAB0oqGAxBYj4D+gybRoSlVTU9wWS91zoYABCAAgTEJ6J6t0RGbFsvI9Jh0SQsCRwkgQI7y4BcEehPQcL2mWDFk3xsdJ0AAAhCIkkDb/VyP/UWYROkyjEqMAAIkMYdhbjwE1Aj5tx0zXB+Pb7AEAhCAwNgEdM+3qYd6mhZCZGzCpFcSAQRISd6mrKMR0DC9NUR6okrTosbRMiMhCEAAAhCYnYBGRfTIX/9ELf0mQAAC/QkgQPoz4wwILAjobb6MelAZSiWgl2bqQ4BAaQS8EOGR6aV5n/KORQABMhZJ0oEABCBQEAEbASyoyBQVAkcItK0TORKJHxCAQCMBBEgjFnZC4BEBvaeDYfZHPPgGARFAgFAPIHCcgNaFqIM4nlsAAB7pSURBVM0gQAACqwkgQFbz4WjhBNSYXLhwYdHZ4lG6hVcGin+EAALkCA5+QGAhPNRe6IMIoUJAYDUBBMhqPhwtmIAaEBMfepcHAQIQeEQAAfKIBd8gIAKakqW2QtcGIoQ6AYHVBBAgq/lwtFACWliI+CjU+RQ7iICmJTI1MQgVkQojgAgpzOEUdxABBMggbJxUAgE94YqRjxI8TRkhAAEIjEtAbYfeqM5C9XG5klo+BBAg+fiSkkAAAhCAAAQgAAEIQCB6AgiQ6F2EgRCAAAQgAAEIQAACEMiHAAIkH19SEghAAAIQgAAEIAABCERPAAESvYswcCoCWlB79epVHp84FXDySZqArhV9CBCAwGoCWgdy8+ZNHtqwGhNHCyOAACnM4RS3mYAaCHvqld79QYAABFYT4DG8q/lwFAJGQG2KPZqXRelGhW3pBBAgpdcAyr8g8Nlnny0aiEuXLkEEAhAIIIAACYBEFAg8JHDlypVFG6OnKxIgAIGqQoBQCyBQVYvHJapDReNAdYBAGAEESBgnYkFABOyfXJcvXwYIBCBQIUCoBAURODg4aC2t/XeK4fFWRBwolICum6brok2AKO6qa61QjBQbAtX58+cXn6brSXja9oMOAjkSYAQkR69SpmME7L9P29vbx4617VBcrQvRW9EJECiRgM1d139tQzpHiqO4EiespSqxxlBmI6AHNOzs7NjPxfbw8PDIb//D2ihG4T0VvudMAAGSs3cp25KARIT++6SOUYgIURzF1TkIkCVGvhRGQIJC66J0LXSJEC8+dE6IYCkMJ8UthIDqfp/2xsSHrrO9vb1CKFHM0gkgQEqvAQWVX/99CmkUvPhY9R+rgtBR1IIJhIgQxEfBFYSiNxIIbW+8+NB3AgRKIYAAKcXTlHNBYFWjoE7U9evXlyMfiA8qDQS+ILBKhCA+qCUQaCawqr3RGYiPZm7sLYMAAqQMP1NKR6DeKOgFUVo0a3PXNUqC+HDA+AqBhwtk/XQsXTP+umHaFdUEAscJ+PZGbYxdN4iP46zYUxYBBEhZ/qa0Dwn4RkHzbu2D+KCKQKCdgB8JsWtGW8RHOzOOQKCtvdG1w7Qr6kepBBAgpXqeci9GOWxNiBoCxAeVAgLdBOoiBPHRzYwYEGgSIYgP6kXJBBAgJXufsi9FyMWLF5l2RX2AQCABEyGIj0BgRINAVS3bG0Y+qA4Q4EWE1AEIQAACEIAABCAwCQGJd42GECBQOgFGQEqvAZQfAhCAAAQgAAEIQAACExJAgEwIm6wgAAEIQAACEIAABCBQOgEESOk1gPJDAAIQgAAEIAABCEBgQgIIkAlhkxUEIAABCEAAAhCAAARKJ4AAKb0GUH4IQAACEIAABCAAAQhMSAABMiFssoIABCAAAQhAAAIQgEDpBBAgpdcAyg8BCEAAAhCAAAQgAIEJCSBAJoRNVhCAAAQgAAEIQAACECidAAKk9BrQUv6Dg4Nqe3u7unLlSnXhwoVKb27lkx4D+U4+lC9zePkV9TK9Osh9Y3M+4/reHFvq7XC2udXLlm4Su9ckgABZE2COp+/s7CA2MhVcu7u7yVZZ6uXwDgGdqTLYcX2X4efUrueU62WyDWYChiNAEnDSlCZevnx5KT62traqvb296v79+1OaQF4jEpDv5EP50hot+Ti1QL1MzWPYOwUBru8pKJNHXwK51Mu+5SZ+PwIIkH68so6t/1Kok3rx4sXq7t27WZe1xMLJpzadLqX/SFEvS6ytlLkvAa7vvsSIPwWBVOvlFGxKzwMBUnoNeFh+za23/5AjPvKtFPv7+0s/p7AmhHqZb12kZOMT4Poenykprk8gtXq5folJIYQAAiSEUgFxtEhZAkRbQt4EUvJ1SrbmXWsoXSoEUrpmUrI1Ff/Haie+jtUz89mFAJmPfVQ560lJEiCMfkTllo0YY/+Nks9jD9TL2D2EfbER4PqOzSPYIwIp1Us8Ng0BBMg0nKPP5fz58wsB8uDBg+htxcD1CGiBoMSm1oPEHqiXsXsI+2IjwPUdm0ewRwRSqpd4bBoCCJBpOEefi63/iN5QDByFQCr+TsXOUZxCIhAYiUAq100qdo7kluKTwd/FV4EjABAgR3CU+4MbQ1m+T8XfqdhZVu2htLETSOW6ScXO2P2din34OxVPTWMnAmQaztHnwo0heheNamAq/k7FzlGdQ2IQWJNAKtdNKnau6Q5Of0gAf1MVPAEEiKdR8HduDGU5PxV/p2JnWbWH0sZOIJXrJhU7Y/d3Kvbh71Q8NY2dCJBpOEefCzeG6F00qoGp+DsVO0d1DolBYE0CqVw3qdi5pjs4/SEB/E1V8AQQIJ5Gwd+5MZTl/FT8nYqdZdUeShs7gVSum1TsjN3fqdiHv1Px1DR2IkCm4Rx9LtwYonfRqAam4u9U7BzVOSQGgTUJpHLdpGLnmu7g9IcE8DdVwRNAgHgaBX/nxlCW81Pxdyp2llV7KG3sBFK5blKxM3Z/p2If/k7FU9PYiQCZhnP0uXBjiN5FoxqYir9TsXNU55AYBNYkkMp1k4qda7qD0x8SwN9UBU8AAeJpFPydG0NZzk/F36nYWVbtobSxE0jluknFztj9nYp9+DsVT01jJwJkGs7R58KNIXoXjWpgKv5Oxc6+zvlw65Pq9fd/Xb169tTi89bHpyvtI0BgDAKpXDep2DmGT0ijqvA3tcATQIB4GgV/58ZQlvNT8XcqdobWnt9+8tfqsTe+V/3jiX8+9nni7R+EJkO8DRL486UPlr5J1SepXDep2NlV3f7lP29VX37+xuLTFbfk47n4u2Qfjll2BMiYNBNOixtDws4bYHoq/k7FzhAX/Nt7P152bJsEyLffeTEkmeA4tw7uLEdZLt6+Fnxe6RERINPVgFyubwRIWJ3Jxd9hpSVWFwEESBehQo7HeGP4+4cfVltPPLH43Hz++dE8sYk0RzNuooRi9HdT0VOxs8l2v++XH/3+iPh49r0fH5lyJbEwtkhQHiZ0NOpCCCOAAAnjNEasXK5vBEhYbcjF32GlJVYXAQRIF6FCjsd4Y0CAbK7yxejvptKmYmeT7X6fn3YlMTJF0PQhEyDaEsIIIEDCOI0RK5frGwESVhty8XdYaYnVRQAB0kWokOMx3hgQIJurfDH6u6m0qdjZZLvtm6tDq/UmJkBe+OPrZg7bDgJz+avDrF6HU7luUrGzCz4CpIvQF8dz8XdYaYnVRQAB0kWokOMx3hgQIJurfDH6u6m0qdjZZLvte+XMfy+FwFSjH5b3JqZ2Wdq5bhEg03k2h+tbtBAgYXUmF3+HlZZYXQQQIF2ECjke440BAbK5yhejv5tKm4qdTbbbPo0+2EiEOreEuAkgQKbzTw7Xt2ghQMLqTC7+DistsboIIEC6CBVyPMYbAwJkc5UvRn83lTYVO5tst31+LQYCxKjEu0WATOebHK5v0UKAhNWZXPwdVlpidRFAgHQRKuR4jDcGBMjmKl+M/m4qbSp2Ntlu+xAgRiKNLQJkOj/lcH2LFgIkrM7k4u+w0hKriwACpItQIcdjvDEgQDZX+WL0d1NpU7GzyXbbhwAxEmlsESDT+SmH61u0ECBhdSYXf4eVllhdBBAgXYQKOR7jjWFuAXLv3LlKNuhTD5/fuVMd/OEP1Z2TJ6ubL7yw/Nw+caI6PHu2Hj263zH6uwlSKnZ62z/c+qT6y6UPlp+vnnp2uQbk9fd/vdzv42ixeD34dPwxxX3r49OVXmz4jbd/uPh8592XfJTFd8WzPIa8Y6QpH+WnvJR/k83HjHA7Vtki+8RGaVuZtH317Kkj70txyfX6aun7tNvSR4D0QrtW5BSv76YCrxIgt+9+Xp399N7y03R+6L6x0gnNb+x4ufh7bC6lpocAKdXztXLHeGOYW4Do5Yf20kKPa++Xv6y2n3pqeczi+O2NZ56pDs+c8adF9T1GfzcBSsVOb7sf8bDF511bdXrrwadjx/QUrS/97JtLQePTtTi29R1pPYmrT1DHvy0fy1PHFS9UiNh5/o3vOleiw461bSUWhoqo0PQl+BQ8N/kgxZDKdZOKnV11YJUA0bn/9B871Zefv7H4XNp90JVc4/GPrtxfpvG1n9xsjBP7zlz8HTvnVOxDgKTiqQ3bGeONITYBolEPjXaY0Nh+8slKIuX2a68ttjvPPbc8ZnFiFSEx+rupiqdip7fdC4e2DnV9f4gA+fn7vzrWUZcIMKHgbdB335EOFSASBH7ERnY+9ovvVhINSkNb/fb2K36ICLFzrFMv+8x2y0fH9AZ3bev5KG4fESJB4dPvykNxJfA8N7O1zjb236lcN6nY2eXvLgHy0rt7S/Hwxp/vdiXXeHyMNBoTnnBnLv6eEFnWWSFAsnZveOFivDHEJEAkPkxg3Hj66dbRjQfXr1e3Xn55KUQ0UqJzYwsx+ruJUSp2Ntlu+9SJtc53k9CwePVt/TxLQ/v1ksGu4DvSIQKkLj6UT1uHX2k/fur7y3KFiBBvvxcHEjWr8vFCRCMhIUFl8eJDabSxly0SPWafF3pikGJI5bpJxc6uOtAlQPzoxeOv7nYl13j8sRcfjaJoWleKIRd/p8g+RpsRIDF6ZQabYrwxxCRAtLZDoxoa8QgRFH761t6bb87g0dVZxujvJotTsbPJdttXFxK2v2vrz3vsje8tOsjqHIeGvgLEj3yEvDldnXwvQrrOsQ6+zrHyhLyYsS4mbKrUKg5+2pXyUxpdQbaYjbZFgHRRW+94Dte3CHQJEMXRtCmbhiVB0ie899Hh8tx//a/bfU6NKm4u/o4KasLGIEASdt6Ypsd4Y4hJgEh8aAQkRHzILxoJsWlYWg8SW4jR302MUrGzyXbb54VE23/hLa7f+vPUIe4jPpROHwGiERLrdGs0IDSoY+9HKNpGMpSepW/bPvn4UYkuoePLrVGQEPFh5fX5yE4EiJHZzDaH61tkQgSIpl6ZAPn3/+kWxJ644tu5EiOphlz8nSr/2OxGgMTmkZnsifHGEJsAkajoE2zKloRIqHDpk/46cWP0d1N5UrGzyXbb54XEUAGiTn7f4Dviq6Zg+RGGvh122eRHDlaJAxMeQzr2stHO7xIFfjpVyAhLnav3V1de9XNj+Z3KdZOKnV1+DREgmjZlIkLTqfoEm36lxewph1z8nbIPYrIdARKTN2a0JcYbQ0wCRAvN+wY9otdGQVSWmEKM/m7ik4qdTbbbPt+hHSpAhnSkQwWIFxBD8lE5bRREU6vaggkIbftwsPQsD53fFrxQkZgaErS+xmxFgAwhGH5ODte3ShsiQBTPj2S8/b8HQaD89Ku+IydBGUwYKRd/T4gs66wQIFm7N7xwMd4YYhIgfUc/RF5rPxAg4XWwKWaM9bLJzlX7xhAgfaYRmS2hAsTbNyQf5edHHdqmYVmnXmsyhgRvZ9v5vsx9pnj59HwaCBBPZvzvOVzfohIqQLyYCF3L4UVL37Uj43tsvRRz8fd6FDjbCCBAjETh2xhvDDEJkCHVAwEyhNrRc2Ksl0ct7P7lO859/vPvz+vO5XgM35FeNQXLhME6nW2/hqStjOvmE8LD29F3zYwR9NzWYWLpzbFN5bpJxc4uH4YKEKXzlVd2l1Oxup5mpeM2/UrnpR5y8XfqfojFfgRILJ6Y2Y4YbwwIkM1Vihj93VTaVOxsst32+Y5zW+fc4vqtP8/vD/3uO9JtAsTHWbV+oytPP22preM/hQDRI30tnz6sffk8EwSIJzP+9xyub1HpI0D6vM9D07Rs3ciJ0/vjO2DiFHPx98TYss0OAZKta/sVLMYbAwKknw/7xI7R3032p2Jnk+22zwuJPp1if56l1WfrO9IhAsQ67utu2/KydId26kN4+Dghj+tt4um5DbW1Kd0p96Vy3aRiZ5fv+ggQvQndRMXXf7r6jeaapmVxh75Bvcv2KY/n4u8pmeWcFwIkZ+/2KFuMNwYESA8H9owao7+bipCKnU222z7fKY5NgPgF6CYQ1t3GIkCMf98tAqQvseHxc7i+Vfo+AkTxQ94J4p+apfg5hFz8nYMvYigDAiQGL0RgQ4w3BgTI5ipGjP5uKm0qdjbZbvtiFiASCyY4ZKd+r/tpE1k+H2PTZ+s5tp0XEqftXNuPADESm9/mcH2LUl8B4qdWaUpWU/BxQp+Y1ZROTPty8XdMTFO2BQGSsvdGtD3GGwMCZEQH15KK0d81Exc/U7GzyXbb5zvFbZ1zi+u3/jy/P/S770i3jUr4EZC2OKH5dcVDgHQRGu94KtdNKnZ2eaavANHoht7poelVj7/avLjcT7/qWqzeZV8sx3Pxdyw8U7cDAZK6B0eyP8YbwyYEiF4IaI/Gvfn88yvp6bjFXRmx5SBPwWoB02N3jPWyh/mLqF5IxCZAQkRK3/K2xZ9agLAG5NM2V0SzP4frWzD7ChCd4x+vW3+7uV8nEvq43micusKQXPy9oogc6kEAAdIDVs5RY70xmADoEguhvukjahAgoVQ3Fy/WetmnxKkIkKHvzQhlMYUA0ZO8LJ8+Ys+XwYsy+S7FkMp1k4qdXXVgiAA5c+7ecoF5/QWDb/z57vJYXZx02RLz8Vz8HTPjlGxDgKTkrQ3aGuuNwQTI9lNPjVL6g9Onl6MaXW83R4CMgnytRGKtl30KFbMAUTmsw77qLeZ9ytsW1/IZ2qn3HNvyGGNKGQKkje74+3O4vkVliADReW3vBNHTsTQ9S9O0cgq5+Dsnn8xZFgTInPQjyjvWG8Otl19eCgaNXqwbJDpM1Oz/5jcrk0OArMQzycFY62WfwvuOc5//yvvz+uRncX1HetX6jjHenWF5rtpOIUA07cryUbmGBM9tqFgaku+Y56Ry3aRiZ5dvhgoQvdvDHrNrC8399Kv6yEiXHbEfz8XfsXNOxT4ESCqe2rCdsd4YJBJMMHSNWHQh0voPjaRYeg+uX195CgJkJZ5JDsZaL/sU3guJGAWIHzX4zrsv9Slar7gmDIZ26j3HVRk/9ovvLkXIrYM7q6I2HvMvVRxqa2PCE+5M5bpJxc4u1w0VIF5sfOvkrUU2fvrVR1fud2Wd1PFc/J0U9IiNRYBE7JwpTYv1xrAQDU8+uRQN986dG4zl9okTy3RCxAwCZDDq0U6MtV72KaDvOMcoQFQW32lXB3xIuHj72srTphIgGu2xvIa83f2rp55dno8AWenStQ/mcH0LwlABonP9064kSGz6laZn5RZy8XdufpmrPAiQuchHlm/MNwb/NCmNYHSNXDSh9Ws/tp98MigNBEgTyWn3xVwvQ0mkIED8f/2/9LNvVn2fIPVv7/240nkaTWkLJgqGduo9x7Y8tF+jHrLF8utTFpXDztN2qK2r7JviWCrXTSp2dvlsHQHi3/fhn4ylkZDcQi7+zs0vc5UHATIX+cjyjf3G4MWARMjhmTNBBDWC4kc+NP1KYiQk+DxD4tfjeOE0xvqVevrr/I7d31a2VOw0e5u2vuMc6wiI7NZTsKzzrQ58yEiIOvuatmXnrVprYnGGduo9xybOfp+fVqayhHA38eHFy1BbvS1zfE/luknFzi4friNAlLa9E8TWg2ir0ZDcQi7+zs0vc5UHATIX+cjyjf3GICHhBYGExI1nnqn233mnqk/LUtzDs2erOydPHlnz0Ud8yD0+vyHuQoAMoXb0nNjr5VFrm3/5jnNIR9hS8efZvj5b5WWd/lXCwKfpRYjO/cbbP6ze+vj0YlTBx9Oowo/+9PqRkYaux/iaLUM79X151MsigfE7N71M4ukvlz6oXj17alkOiQ+/kH2orZ7VHN9TuW5SsbPLh+sKED/yIfGh9HIMufg7R9/MUSYEyBzUI8wzlRuD79TbYvKQ7Y2nn676jkIgQOavqKnUy1WkfMc5dgGicvz8/V8thYuJhlVbddp1TlewNIZ26j3HrrzsuH8viOXfttU6GJuuZXGG2mr5z7VN5bpJxc4uP64rQLTY3I9+2BOxuvJN7Xgu/k6Ne6z2IkBi9czEdqV0Y9AaEAkRiYou8aHH+IZOuaojR4DUiUz/O6V62UbHd5xTECAqhxaUawTBT0eyTrltdUwd/K7F58bFzhvaqfccLc2QrZg/fur7raJKwkMjRP6JWevaGmLXJuOkct2kYmeXr9YVIEr/az/54t0fEiK3737elWWSx3Pxd5LwIzQaARKhU+YwKdUbg8SIRjYkMiRK9NF37dNULEIzgVT8nYqdzZTz2KtRAa2pUCddH3Xo+wipWChIKMluXw4b8YjFxrHsSOW6ScXOsfyyKp3HXtxZjILk9u4PX2b87WnwHQFCHVgQ4MZQVkVIxd+p2FlW7aG0sRNI5bpJxc5N+9s/Ceu9jw43nd1s6ePv2dBHmTECJEq3TG8UN4bpmc+ZYyr+TsXOOX1J3hCoE0jluknFzjrfsX/bu0D0NKycA/7O2bv9y4YA6c8syzO4MWTp1tZCpeLvVOxsBc0BCMxAIJXrJhU7N+lC/zb0l97d22RWs6eNv2d3QVQGIECicsd8xnBjmI/9HDmn4u9U7JzDh+QJgTYCqVw3qdjZxnmM/SdO7y+fgKWnYeUc8HfO3u1fNgRIf2ZZnsGNIUu3thYqFX+nYmcraA5AYAYCqVw3qdi5KRdq9MMWn+f67g/PrnR/exZ8ryoECLVgQYAbQ1kVIRV/p2JnWbWH0sZOIJXrJhU7N+FviY+v//TRo3dzH/0Qw5L9vYk6lHqaCJDUPTiS/dwYRgKZSDKp+DsVOxNxO2YWQiCV6yYVO8eoNv/3/x1UZz+9V/2fv9ytfvD2neW0K733I/e1H8avJH9bmdm2E0CAtLMp6gg3hqLcncx/oqiXZdVLSjsOgVSum1TsHMMr/k3n/nvO7/2ocyvJ3/Wy8/s4AQTIcSZF7uHGUJbbU/F3KnaWVXsobewEUrluUrFzDH970aHvX3llt9L7P0oKJfm7JL8OLSsCZCi5zM7jxpCZQzuKk4q/U7GzAzeHITApgVSum1TsHMt5Z87dq/QpNZTm71L9HFpuBEgoqczjcWPI3MG14qXi71TsrOHlJwRmJZDKdZOKnbM6M6PM8XdGzhyhKAiQESDmkAQ3hhy8GF6GVPydip3h5IkJgc0TSOW6ScXOzXusjBzwdxl+Di0lAiSUVObxuDFk7uBa8VLxdyp21vDyEwKzEkjluknFzlmdmVHm+DsjZ45QFATICBBzSOLixYuLJyPdv5/3m1hz8NW6ZZCP1RDI57EH6mXsHsK+2AhwfcfmEewRgZTqJR6bhgACZBrO0edy7dq1Rad0f38/elsxcD0C8rEEiHwee6Bexu4h7IuNANd3bB7BHhFIqV7isWkIIECm4Rx9Lru7u4tO6fXr16O3FQPXI3D16tWFr+Xz2AP1MnYPYV9sBLi+Y/MI9ohASvUSj01DAAEyDefoc7l3796iU6r/jDMKEr27Bhto/4U6f/58JZ/HHqiXsXsI+2IiwPUdkzewxQikVi/NbrabJYAA2SzfpFK/devWQoRo3v3du3eTsh1juwnIpxcuXFj4WL5OJVAvU/EUds5JgOt7Tvrk3UYg1XrZVh72j0cAATIeyyxSunz58nIkZGtrazEa8uDBgyzKVmIhtPBvb2+vki/tCSTycWqBepmax7B3CgJc31NQJo++BHKpl33LTfx+BBAg/XgVEXtnZ2fZWbVOK9tPs2CSwrqPtouMeplHHeResjk/cn1vji31djjblOtlW3vE/vUJIEDWZ5hlCgcHB9X29nZ15cqV5bQdbsDDb8BzsdOUK/lQvjw8PEy+rlIv06uDc9X9EvLl+uZ6iLGe51Yvk284Iy0AAiRSx2AWBCAAAQhAAAIQgAAEciSAAMnRq5QJAhCAAAQgAAEIQAACkRJAgETqGMyCAAQgAAEIQAACEIBAjgQQIDl6lTJBAAIQgAAEIAABCEAgUgIIkEgdg1kQgAAEIAABCEAAAhDIkQACJEevUiYIQAACEIAABCAAAQhESgABEqljMAsCEIAABCAAAQhAAAI5EkCA5OhVygQBCEAAAhCAAAQgAIFICSBAInUMZkEAAhCAAAQgAAEIQCBHAgiQHL1KmSAAAQhAAAIQgAAEIBApAQRIpI7BLAhAAAIQgAAEIAABCORIAAGSo1cpEwQgAAEIQAACEIAABCIlgACJ1DGYBQEIQAACEIAABCAAgRwJIEBy9CplggAEIAABCEAAAhCAQKQEECCROgazIAABCEAAAhCAAAQgkCMBBEiOXqVMEIAABCAAAQhAAAIQiJQAAiRSx2AWBCAAAQhAAAIQgAAEciSAAMnRq5QJAhCAAAQgAAEIQAACkRJAgETqGMyCAAQgAAEIQAACEIBAjgQQIDl6lTJBAAIQgAAEIAABCEAgUgIIkEgdg1kQgAAEIAABCEAAAhDIkQACJEevUiYIQAACEIAABCAAAQhESgABEqljMAsCEIAABCAAAQhAAAI5EkCA5OhVygQBCEAAAhCAAAQgAIFICSBAInUMZkEAAhCAAAQgAAEIQCBHAgiQHL1KmSAAAQhAAAIQgAAEIBApAQRIpI7BLAhAAAIQgAAEIAABCORIAAGSo1cpEwQgAAEIQAACEIAABCIlgACJ1DGYBQEIQAACEIAABCAAgRwJ/H+QL/f+29pSuAAAAABJRU5ErkJggg==)"
      ]
    },
    {
      "cell_type": "markdown",
      "metadata": {
        "id": "eV_G6dYQhEH1"
      },
      "source": [
        "Такой метод токенизации позволяет правильно понять слова, состоящие из 2 частей (которых не было в обучающих текстах), например, слово \"subtask\", если его разделить на \"sub\" и \"task\" то перевод не изменится и смысл слова останется прежним.\n",
        "\n",
        "Поэтому будем использовать токенайзер *SubwordTextEncoder*, словарь частотности которого, будет состоять из частей слов."
      ]
    },
    {
      "cell_type": "code",
      "metadata": {
        "id": "QuMdZXj8rJMd"
      },
      "source": [
        "# Токенайзер для английского языка, с размером словаря 2**13\n",
        "tokenizer_en = tfds.deprecated.text.SubwordTextEncoder.build_from_corpus(\n",
        "    (en.numpy() for pt, en in train_examples), target_vocab_size=2**13)\n",
        "\n",
        "# Токенайзер для португальского языка, с размером словаря 2**13\n",
        "tokenizer_pt = tfds.deprecated.text.SubwordTextEncoder.build_from_corpus(\n",
        "    (pt.numpy() for pt, en in train_examples), target_vocab_size=2**13)"
      ],
      "execution_count": null,
      "outputs": []
    },
    {
      "cell_type": "markdown",
      "metadata": {
        "id": "krEZ_dNIuM9u"
      },
      "source": [
        "Проверим как работает токенайзер на примере одной фразы"
      ]
    },
    {
      "cell_type": "code",
      "metadata": {
        "colab": {
          "base_uri": "https://localhost:8080/"
        },
        "id": "KFRgBQrNrLfr",
        "outputId": "5333d69a-7786-41f6-920f-ddab227514e1"
      },
      "source": [
        "# Тестовая фраза\n",
        "sample_string = 'Transformer is complicated.' \n",
        "\n",
        "# Перегоним слова в токены\n",
        "tokenized_string = tokenizer_en.encode(sample_string) \n",
        "print('Tokenized string is {}'.format(tokenized_string))\n",
        "\n",
        "# Перегоним токены обратно в слова\n",
        "original_string = tokenizer_en.decode(tokenized_string) \n",
        "print('The original string: {}'.format(original_string))\n",
        "\n",
        "# Распишем какой токен чему соответсвует\n",
        "for ts in tokenized_string:\n",
        "  print('{} ----> {}'.format(ts, tokenizer_en.decode([ts]))) \n",
        "\n",
        "# А точно ли исходная фраза соответствует дважды перекодированной?\n",
        "print(original_string == sample_string)"
      ],
      "execution_count": null,
      "outputs": [
        {
          "output_type": "stream",
          "name": "stdout",
          "text": [
            "Tokenized string is [7915, 1248, 7946, 7194, 13, 3635, 7877]\n",
            "The original string: Transformer is complicated.\n",
            "7915 ----> T\n",
            "1248 ----> ran\n",
            "7946 ----> s\n",
            "7194 ----> former \n",
            "13 ----> is \n",
            "3635 ----> complicated\n",
            "7877 ----> .\n",
            "True\n"
          ]
        }
      ]
    },
    {
      "cell_type": "markdown",
      "metadata": {
        "id": "OzyLgPGiwWvd"
      },
      "source": [
        "Создадим функцию, которая добавит токены `< start >` и `< end >` во все фразы в датасете. Эти токены будут добавлены в конце словаря, следовательно они будут иметь последние индексы.\n",
        "\n",
        "На вход функция принимает последовательность индексов слов, а на выходе получаем ту же последовательность, с добавлением двух токенов в начале и в конце. Вот пример:\n",
        "\n",
        "    Вход:  [17, 22, 124, 321, 32]\n",
        "    Выход: [8214, 17, 22, 124, 321, 32, 8215]"
      ]
    },
    {
      "cell_type": "code",
      "metadata": {
        "id": "m7krXaWGrO2e"
      },
      "source": [
        "# lang1 и lang2 это языки переводчика (pt и en в нашем случае)\n",
        "def encode(lang1, lang2):\n",
        "\n",
        "  # Добавление токенов start и end первого языка (pt)\n",
        "  lang1 = [tokenizer_pt.vocab_size] + tokenizer_pt.encode(\n",
        "      lang1.numpy()) + [tokenizer_pt.vocab_size+1]\n",
        "  \n",
        "  # Добавление токенов start и end второго языка (en)\n",
        "  lang2 = [tokenizer_en.vocab_size] + tokenizer_en.encode(\n",
        "      lang2.numpy()) + [tokenizer_en.vocab_size+1]\n",
        "  \n",
        "  return lang1, lang2"
      ],
      "execution_count": null,
      "outputs": []
    },
    {
      "cell_type": "markdown",
      "metadata": {
        "id": "0L_W02g_xOIH"
      },
      "source": [
        "Функция tf_encode() - это обертка от tensorflow для питоновских функций. Иными словами, чтобы все матиматические операции были выполнены из под tf."
      ]
    },
    {
      "cell_type": "code",
      "metadata": {
        "id": "zjhbAUSKrRND"
      },
      "source": [
        "# Обертка над предыдущей функцией encode()\n",
        "def tf_encode(pt, en):\n",
        "  result_pt, result_en = tf.py_function(encode,               # Функция\n",
        "                                        [pt, en],             # Аргументы \n",
        "                                        [tf.int64, tf.int64]) # Типы данных\n",
        "  result_pt.set_shape([None])\n",
        "  result_en.set_shape([None])\n",
        "\n",
        "  return result_pt, result_en"
      ],
      "execution_count": null,
      "outputs": []
    },
    {
      "cell_type": "markdown",
      "metadata": {
        "id": "wIH144oSMETf"
      },
      "source": [
        "Зададим некоторые параметры токенизации"
      ]
    },
    {
      "cell_type": "code",
      "metadata": {
        "id": "kgtx_YZRrUT0"
      },
      "source": [
        "# Размер буфера в памяти при подготовке датасета\n",
        "BUFFER_SIZE = 20000 \n",
        "\n",
        "# Размер батча\n",
        "BATCH_SIZE = 64  \n",
        "\n",
        "# Максимальная длина фраз\n",
        "MAX_LENGTH = 40  "
      ],
      "execution_count": null,
      "outputs": []
    },
    {
      "cell_type": "markdown",
      "metadata": {
        "id": "fvQGYsxkMSel"
      },
      "source": [
        "Напишем функцию filter_max_length(), которая исключит все фразы, длина которых больше заданного значения."
      ]
    },
    {
      "cell_type": "code",
      "metadata": {
        "id": "Kr17q_wOrZyU"
      },
      "source": [
        "def filter_max_length(x, y, max_length=MAX_LENGTH):\n",
        "    \n",
        "  return tf.logical_and(tf.size(x) <= max_length, # Маска для значений x\n",
        "                        tf.size(y) <= max_length) # Маска для значений y"
      ],
      "execution_count": null,
      "outputs": []
    },
    {
      "cell_type": "markdown",
      "metadata": {
        "id": "F-UtcR-O2YFb"
      },
      "source": [
        "Готовим датасет на основе всех созданных ранее функций.\n"
      ]
    },
    {
      "cell_type": "code",
      "metadata": {
        "id": "v_Zp7UhVrcCj"
      },
      "source": [
        "# Прогоняем обучающие тексты через токенайзер\n",
        "# Благодаря .map мы применим функцию tf_encode к каждому примеру выборки\n",
        "train_dataset = train_examples.map(tf_encode) \n",
        "\n",
        "# Фильтруем по максимальной длинне\n",
        "train_dataset = train_dataset.filter(filter_max_length) \n",
        "\n",
        "# Кэшируем данные в память для ускорения работы\n",
        "train_dataset = train_dataset.cache() \n",
        "\n",
        "# Делим на батчи и перемешиваем\n",
        "train_dataset = train_dataset.shuffle(BUFFER_SIZE).padded_batch(BATCH_SIZE) \n",
        "\n",
        "# # .prefetch используется для разделения времени, когда данные производятся, \n",
        "# от времени, когда данные потребляются. Это ускоряет обучение сети\n",
        "train_dataset = train_dataset.prefetch(tf.data.experimental.AUTOTUNE) \n",
        "\n",
        "# Прогоняем проверочные тексты через токенайзер\n",
        "val_dataset = val_examples.map(tf_encode)\n",
        "\n",
        "# Фильтруем по максимальной длинне\n",
        "val_dataset = val_dataset.filter(filter_max_length).padded_batch(BATCH_SIZE)"
      ],
      "execution_count": null,
      "outputs": []
    },
    {
      "cell_type": "markdown",
      "metadata": {
        "id": "-Wh9yvhWL8L7"
      },
      "source": [
        "Выведем примеры предложений, преобразованные из текста в числа."
      ]
    },
    {
      "cell_type": "code",
      "metadata": {
        "colab": {
          "base_uri": "https://localhost:8080/"
        },
        "id": "Eu9XDBbXrd_f",
        "outputId": "a5c7ba8c-d066-4dc0-a9be-dbf3759fce21"
      },
      "source": [
        "# Возьмем первый батч датасета\n",
        "pt_batch, en_batch = next(iter(val_dataset))\n",
        "\n",
        "# Посмотрим что внутри\n",
        "pt_batch, en_batch"
      ],
      "execution_count": null,
      "outputs": [
        {
          "output_type": "execute_result",
          "data": {
            "text/plain": [
              "(<tf.Tensor: shape=(64, 38), dtype=int64, numpy=\n",
              " array([[8214,  342, 3032, ...,    0,    0,    0],\n",
              "        [8214,   95,  198, ...,    0,    0,    0],\n",
              "        [8214, 4479, 7990, ...,    0,    0,    0],\n",
              "        ...,\n",
              "        [8214,  584,   12, ...,    0,    0,    0],\n",
              "        [8214,   59, 1548, ...,    0,    0,    0],\n",
              "        [8214,  118,   34, ...,    0,    0,    0]])>,\n",
              " <tf.Tensor: shape=(64, 40), dtype=int64, numpy=\n",
              " array([[8087,   98,   25, ...,    0,    0,    0],\n",
              "        [8087,   12,   20, ...,    0,    0,    0],\n",
              "        [8087,   12, 5453, ...,    0,    0,    0],\n",
              "        ...,\n",
              "        [8087,   18, 2059, ...,    0,    0,    0],\n",
              "        [8087,   16, 1436, ...,    0,    0,    0],\n",
              "        [8087,   15,   57, ...,    0,    0,    0]])>)"
            ]
          },
          "metadata": {},
          "execution_count": 16
        }
      ]
    },
    {
      "cell_type": "markdown",
      "metadata": {
        "id": "gDH0SGFV33XD"
      },
      "source": [
        "Функция для расчета аргументов sin и cos для позиционного кодирования (как в теоритическом ноутбуке)."
      ]
    },
    {
      "cell_type": "code",
      "metadata": {
        "id": "JrZ906UOrgFh"
      },
      "source": [
        "def get_angles(pos, i, d_model):\n",
        "\n",
        "  # По формуле рассчитаем аргументы позиционного кодирования\n",
        "  angle_rates = 1 / np.power(10000, (2 * (i//2)) / np.float32(d_model))\n",
        "  return pos * angle_rates"
      ],
      "execution_count": null,
      "outputs": []
    },
    {
      "cell_type": "markdown",
      "metadata": {
        "id": "TbkM1qKY4BNA"
      },
      "source": [
        "Функция для расчета векторов позиционного кодирования"
      ]
    },
    {
      "cell_type": "markdown",
      "metadata": {
        "id": "DDwHMJScwtsA"
      },
      "source": [
        "Функция positional_encoding() принимает на вход размерность матрицы позиционного кодирования, где: \n",
        "\n",
        "    position - порядковый номер слова во фразе\n",
        "    d_model - размер модели, например 512\n",
        "\n",
        "На выходе мы получим значения позиционного кодирования для каждого токена."
      ]
    },
    {
      "cell_type": "code",
      "metadata": {
        "id": "lRNOsOpQriI1"
      },
      "source": [
        "def positional_encoding(position, d_model):\n",
        "  \n",
        "  # Получаем аргументы\n",
        "  angle_rads = get_angles(np.arange(position)[:, np.newaxis],\n",
        "                          np.arange(d_model)[np.newaxis, :],\n",
        "                          d_model)\n",
        "  \n",
        "  # Чётные индексы будут принимать значение от sin\n",
        "  angle_rads[:, 0::2] = np.sin(angle_rads[:, 0::2])\n",
        "  \n",
        "  # Нечётные индексы будут принимать значение от cos\n",
        "  angle_rads[:, 1::2] = np.cos(angle_rads[:, 1::2])\n",
        "    \n",
        "  # Добавляем ещё одну размерность\n",
        "  pos_encoding = angle_rads[np.newaxis, ...]\n",
        "    \n",
        "  return tf.cast(pos_encoding, dtype=tf.float32)"
      ],
      "execution_count": null,
      "outputs": []
    },
    {
      "cell_type": "markdown",
      "metadata": {
        "id": "9K_R_xKv4QqM"
      },
      "source": [
        "Визуализируем вектора поцизионного кодирования"
      ]
    },
    {
      "cell_type": "code",
      "metadata": {
        "colab": {
          "base_uri": "https://localhost:8080/",
          "height": 301
        },
        "id": "U1j5IJngrkVY",
        "outputId": "fdfdeb85-421c-470a-eb35-74b1533bafd1"
      },
      "source": [
        "# Зададим значения 50, 512\n",
        "pos_encoding = positional_encoding(50, 512)\n",
        "print(pos_encoding.shape)\n",
        "\n",
        "# Выведем значения поз. кодирования в виде heatmap\n",
        "plt.pcolormesh(pos_encoding[0], cmap='RdBu')\n",
        "plt.xlabel('Depth')\n",
        "plt.xlim((0, 512))\n",
        "plt.ylabel('Position')\n",
        "plt.colorbar()\n",
        "plt.show()"
      ],
      "execution_count": null,
      "outputs": [
        {
          "output_type": "stream",
          "name": "stdout",
          "text": [
            "(1, 50, 512)\n"
          ]
        },
        {
          "output_type": "display_data",
          "data": {
            "image/png": "[encoded data removed]",
            "text/plain": [
              "<Figure size 432x288 with 2 Axes>"
            ]
          },
          "metadata": {
            "needs_background": "light"
          }
        }
      ]
    },
    {
      "cell_type": "markdown",
      "metadata": {
        "id": "hShhhSaU4Wwk"
      },
      "source": [
        "Пишем класс MultiHeadAttention. Писать слои attention своими руками не будем, используем готовый слой Attention из модуля keras (`tf.keras.layers.Attention(use_scale=False, **kwargs))`\n",
        "\n",
        "Принимает на вход список из наших знакомых `Query, Value, Key`\n",
        "На выходе вектор внимания той же размерности.\n",
        "\n"
      ]
    },
    {
      "cell_type": "code",
      "metadata": {
        "id": "qjuiqQf7rvi7"
      },
      "source": [
        "class MultiHeadAttention(tf.keras.layers.Layer):\n",
        "\n",
        "  def __init__(self, \n",
        "               d_model = 512, # Размерность емб. пространства\n",
        "               num_heads = 8, # Количество голов сети\n",
        "               causal=False,  # Применять маску в Attention или нет\n",
        "               dropout=0.0):  # Значение Dropout\n",
        "\n",
        "    super(MultiHeadAttention, self).__init__()  # Здесь все головы считаем паралелльно - поэтому attention пробегает и по батчу и по числу голов\n",
        "\n",
        "    assert d_model % num_heads == 0 # Проверим, что размерность головы - целое цисло\n",
        "    depth = d_model // num_heads    # Размерность каждой головы внимания  =>>  multi-headed_depth = depth / num_heads\n",
        "                                    # Заметим, что выходы голов конкатенируются, поэтому их размер в их число раз меньше.\n",
        "                                    # Поэтому размерность выхода должно совпасть в размерностью входа\n",
        "\n",
        "    self.w_query = tf.keras.layers.Dense(d_model)                            # Dense для Query  (batch_size , seq_length, depth) \n",
        "    self.split_reshape_query = tf.keras.layers.Reshape((-1,num_heads,depth)) # Слой для решейпа query до (batch_size , seq_length, num_heads, multi_headed_depth)  \n",
        "    self.split_permute_query = tf.keras.layers.Permute((2,1,3))              # Слой для перестановки размерностей для использования Attention\n",
        "\n",
        "    self.w_value = tf.keras.layers.Dense(d_model)                            # Dense для Value  (batch_size , seq_length, depth)\n",
        "    self.split_reshape_value = tf.keras.layers.Reshape((-1,num_heads,depth)) # Слой для решейпа value до (batch_size , seq_length, num_heads, multi_headed_depth\n",
        "    self.split_permute_value = tf.keras.layers.Permute((2,1,3))              # Слой для перестановки размерностей для использования Attention\n",
        "\n",
        "    self.w_key = tf.keras.layers.Dense(d_model)                              # Dense для Key  (batch_size , seq_length, depth)\n",
        "    self.split_reshape_key = tf.keras.layers.Reshape((-1,num_heads,depth))   # Слой для решейпа key до (batch_size , seq_length, num_heads, multi_headed_depth\n",
        "    self.split_permute_key = tf.keras.layers.Permute((2,1,3))                # Слой для перестановки размерностей для использования Attention\n",
        "\n",
        "    self.attention = tf.keras.layers.Attention(causal=causal, dropout=dropout) # Прописываем слой Attention\n",
        "    self.join_permute_attention = tf.keras.layers.Permute((2,1,3))             # Слой обратной перестановки размерностей\n",
        "    self.join_reshape_attention = tf.keras.layers.Reshape((-1,d_model))        # Слой обратного решейпа до размернсти модели\n",
        "\n",
        "    self.dense = tf.keras.layers.Dense(d_model)     # Полносвязный слой\n",
        "\n",
        "  def call(self, inputs, mask=None, training=None): # Основная рабочая функция\n",
        "\n",
        "    q = inputs[0]                           # Вытащим входной вектор Query\n",
        "    v = inputs[1]                           # Вытащим входной вектор Value\n",
        "    k = inputs[2] if len(inputs) > 2 else v # Вытащим входной вектор Key\n",
        "\n",
        "    query = self.w_query(q)                   # Прогоним через dense\n",
        "    query = self.split_reshape_query(query)   # Решейпим\n",
        "    query = self.split_permute_query(query)   # Переставляем размерность\n",
        "\n",
        "    value = self.w_value(v)                 # Прогоним через dense\n",
        "    value = self.split_reshape_value(value) # Решейпим\n",
        "    value = self.split_permute_value(value) # Переставляем размерность\n",
        "\n",
        "    key = self.w_key(k)               # Прогоним через dense\n",
        "    key = self.split_reshape_key(key) # Решейпим\n",
        "    key = self.split_permute_key(key) # Переставляем размерность\n",
        "\n",
        "    if mask is not None: # Применим маску если есть \n",
        "\n",
        "      if mask[0] is not None:\n",
        "        mask[0] = tf.keras.layers.Reshape((-1,1))(mask[0])     # Слой для решейпа\n",
        "        mask[0] = tf.keras.layers.Permute((2,1))(mask[0])      # Слой для перестановки размерностей\n",
        "      \n",
        "      if mask[1] is not None:\n",
        "        mask[1] = tf.keras.layers.Reshape((-1,1))(mask[1])     # Слой для решейпа\n",
        "        mask[1] = tf.keras.layers.Permute((2,1))(mask[1])      # Слой для перестановки размерностей\n",
        "\n",
        "    attention = self.attention([query, value, key], mask=mask) # Вычисляем вектор внимания\n",
        "    attention = self.join_permute_attention(attention)         # Обратно перемешиваем размерности\n",
        "    attention = self.join_reshape_attention(attention)         # Решейпим до (batch_size , seq_length, depth) \n",
        "\n",
        "    x = self.dense(attention) # Выходной dense\n",
        "\n",
        "    return x"
      ],
      "execution_count": null,
      "outputs": []
    },
    {
      "cell_type": "markdown",
      "metadata": {
        "id": "mAeeSGSOWXxE"
      },
      "source": [
        "Определим класс кодера. Он содержит один слой \"многоголовое внимание\", дропаут, слой сложения - создает resudial связь, слой нормализации и Feed Forward блок - в dense слоя."
      ]
    },
    {
      "cell_type": "code",
      "metadata": {
        "id": "I2EGJ0VHr9Tg"
      },
      "source": [
        "class EncoderLayer(tf.keras.layers.Layer): \n",
        "\n",
        "  def __init__(self,  \n",
        "               d_model = 512,  # Размерность емб. пространства\n",
        "               num_heads = 8,  # Количество голов сети\n",
        "               dff = 2048,     # Количество нейронов первого Dense слоя\n",
        "               dropout = 0.0): # Значение Dropout\n",
        "    \n",
        "    super(EncoderLayer, self).__init__()\n",
        "\n",
        "    self.multi_head_attention = MultiHeadAttention(d_model, num_heads)   # Определим слой  MultiHeadAttention\n",
        "    self.dropout_attention = tf.keras.layers.Dropout(dropout)            # Добавим дропаут\n",
        "    self.add_attention = tf.keras.layers.Add()                           # Слой для получения resudial связи\n",
        "    self.layer_norm_attention = tf.keras.layers.LayerNormalization(epsilon=1e-6)  # Слой нормализации\n",
        "\n",
        "    self.dense1 = tf.keras.layers.Dense(dff, activation='relu')               # Первый dense в Feed Forward\n",
        "    self.dense2 = tf.keras.layers.Dense(d_model)                              # Второй  dense в Feed Forward\n",
        "    self.dropout_dense = tf.keras.layers.Dropout(dropout)                     # Добавим дропаут\n",
        "    self.add_dense = tf.keras.layers.Add()                                    # Слой для получения resudial связи\n",
        "    self.layer_norm_dense = tf.keras.layers.LayerNormalization(epsilon=1e-6)  # Слой нормализации\n",
        "\n",
        "  def call(self, inputs, mask=None, training=None):\n",
        "\n",
        "    # Входной вектор input размножим до 3 - это query, value, key и отдадим attenton, с маской если есть \n",
        "    attention = self.multi_head_attention([inputs,inputs,inputs], mask = [mask,mask]) \n",
        "    \n",
        "    # Уменьшим переобучение дроаутом\n",
        "    attention = self.dropout_attention(attention, training = training) \n",
        "    \n",
        "    # Сделаем resudial связь - добавим входной вектор\n",
        "    x = self.add_attention([inputs , attention]) \n",
        "    \n",
        "    # Далее нормализация в масштабах уровня\n",
        "    x = self.layer_norm_attention(x)  \n",
        "\n",
        "    # Добавим Feed Forward  \n",
        "    # Проходим 1й dense с активашкой relu\n",
        "    dense = self.dense1(x) \n",
        "    \n",
        "    # Второй dense без активашки т.е. с линейной активационной функцией\n",
        "    dense = self.dense2(dense)  \n",
        "    \n",
        "    # Добавляем дропаут\n",
        "    dense = self.dropout_dense(dense, training = training)  \n",
        "    \n",
        "    # Еще одна resudial связь\n",
        "    x = self.add_dense([x , dense])  \n",
        "    \n",
        "    # Нормализация в масштабах уровня\n",
        "    x = self.layer_norm_dense(x)  \n",
        "\n",
        "    return x"
      ],
      "execution_count": null,
      "outputs": []
    },
    {
      "cell_type": "markdown",
      "metadata": {
        "id": "xru8wFSFafUj"
      },
      "source": [
        "Определим класс слой декодера, который содержит один слой \"многоголовое внимание\", дропаут, слой сложения - создает resudial связь, слой нормализации и Feed Forward блок - в dense слоя:"
      ]
    },
    {
      "cell_type": "code",
      "metadata": {
        "id": "5Eyo1MWfsBPU"
      },
      "source": [
        "class DecoderLayer(tf.keras.layers.Layer):\n",
        "\n",
        "  def __init__(self,  \n",
        "               d_model = 512,  # Размерность емб. пространства\n",
        "               num_heads = 8,  # Количество голов сети\n",
        "               dff = 2048,     # Количество нейронов первого Dense слоя\n",
        "               dropout = 0.0): # Значение Dropout\n",
        "\n",
        "    super(DecoderLayer, self).__init__()\n",
        "\n",
        "    self.multi_head_attention1 =  MultiHeadAttention(d_model, num_heads, causal = True) # Определим слой  MultiHeadAttention\n",
        "    self.dropout_attention1 = tf.keras.layers.Dropout(dropout)                          # Добавим дропаут\n",
        "    self.add_attention1 = tf.keras.layers.Add()                                         # Слой для получения resudial связи\n",
        "    self.layer_norm_attention1 = tf.keras.layers.LayerNormalization(epsilon=1e-6)       # Слой нормализации\n",
        "\n",
        "    self.multi_head_attention2 =  MultiHeadAttention(d_model, num_heads)                # Определим слой  MultiHeadAttention \n",
        "    self.dropout_attention2 = tf.keras.layers.Dropout(dropout)                          # Добавим дропаут\n",
        "    self.add_attention2 = tf.keras.layers.Add()                                         # Слой для получения resudial связи\n",
        "    self.layer_norm_attention2 = tf.keras.layers.LayerNormalization(epsilon=1e-6)       # Слой нормализации\n",
        "\n",
        "\n",
        "    self.dense1 = tf.keras.layers.Dense(dff, activation='relu')                         # Первый dense в Feed Forward\n",
        "    self.dense2 = tf.keras.layers.Dense(d_model)                                        # Второй  dense в Feed Forward\n",
        "    self.dropout_dense = tf.keras.layers.Dropout(dropout)                               # Добавим дропаут\n",
        "    self.add_dense = tf.keras.layers.Add()                                              # Слой для получения resudial связи\n",
        "    self.layer_norm_dense = tf.keras.layers.LayerNormalization(epsilon=1e-6)            # Слой нормализации\n",
        "\n",
        "  def call(self, inputs, mask=None, training=None):\n",
        "    \n",
        "    # Подадим на multi-head attention  Query, Key, Value вектора - здесь это один и тот же вектор\n",
        "    attention = self.multi_head_attention1([inputs[0],inputs[0],inputs[0]], mask = [mask[0],mask[0]])\n",
        "    \n",
        "    # Пробежим дропаут\n",
        "    attention = self.dropout_attention1(attention, training = training)\n",
        "    \n",
        "    # Пробросим Resudial-связь\n",
        "    x = self.add_attention1([inputs[0] , attention])\n",
        "    \n",
        "    # Выполним нормализацию\n",
        "    x = self.layer_norm_attention1(x)\n",
        "    \n",
        "    # Второй multi-head attention. Подаем выход предыдущих слоев x и выход от энкодера, маску (если есть)\n",
        "    attention = self.multi_head_attention2([x, inputs[1],inputs[1]], mask = [mask[0],mask[1]])\n",
        "    \n",
        "    # Прогоняем через дропаут\n",
        "    attention = self.dropout_attention2(attention, training = training)\n",
        "    \n",
        "    # Пробросим Resudial-связь\n",
        "    x = self.add_attention1([x , attention])\n",
        "    \n",
        "    # Выполним нормализацию\n",
        "    x = self.layer_norm_attention1(x)\n",
        "\n",
        "    # Feed Forward\n",
        "    # 1 dense + relu\n",
        "    dense = self.dense1(x)\n",
        "\n",
        "    # 2 dense +linear\n",
        "    dense = self.dense2(dense)\n",
        "\n",
        "    # Прогоняем через дропаут\n",
        "    dense = self.dropout_dense(dense, training = training)\n",
        "\n",
        "    # Пробросим Resudial-связь\n",
        "    x = self.add_dense([x , dense])\n",
        "\n",
        "    # Выполним нормализацию\n",
        "    x = self.layer_norm_dense(x)\n",
        "\n",
        "    return x"
      ],
      "execution_count": null,
      "outputs": []
    },
    {
      "cell_type": "markdown",
      "metadata": {
        "id": "g6GY0fktccgh"
      },
      "source": [
        "Создаем сам кодер из слоев, описанных ранее (embedding, позиционное кодирование, пачки кодеров):\n"
      ]
    },
    {
      "cell_type": "code",
      "metadata": {
        "id": "DSMPCIhfsD-C"
      },
      "source": [
        "class Encoder(tf.keras.layers.Layer):\n",
        "\n",
        "  def __init__(self, \n",
        "               input_vocab_size,                  # Размер словаря\n",
        "               num_layers = 4,                    # Количество слоев энкодера\n",
        "               d_model = 512,                     # Размерность емб. пространства\n",
        "               num_heads = 8,                     # Количество голов сети\n",
        "               dff = 2048,                        # Количество нейронов первого Dense слоя\n",
        "               maximum_position_encoding = 10000, # Максимальное число позиций\n",
        "               dropout = 0.0):                    # Значение Dropout\n",
        "    \n",
        "    super(Encoder, self).__init__()\n",
        "\n",
        "    self.d_model = d_model\n",
        "\n",
        "    self.embedding = tf.keras.layers.Embedding(input_vocab_size, # Пропишем слой Embedding\n",
        "                                               d_model, \n",
        "                                               mask_zero=True)  \n",
        "    \n",
        "    self.pos = positional_encoding(maximum_position_encoding,    # Функция позиционного кодирования\n",
        "                                   d_model)   \n",
        "                   \n",
        "    self.encoder_layers = [ EncoderLayer(d_model = d_model,      # Список Nx слоев кодера\n",
        "                                         num_heads = num_heads, \n",
        "                                         dff = dff, \n",
        "                                         dropout = dropout) for _ in range(num_layers)]  \n",
        "\n",
        "    self.dropout = tf.keras.layers.Dropout(dropout)              # Просто дропаут\n",
        "\n",
        "  def call(self, inputs, mask=None, training=None):\n",
        "    \n",
        "    # Входной эмбеддинг  \n",
        "    x = self.embedding(inputs) \n",
        "    \n",
        "    # Позиционное кодирование\n",
        "    x *= tf.math.sqrt(tf.cast(self.d_model, tf.float32)) \n",
        "    x += self.pos[: , :tf.shape(x)[1], :]\n",
        "    \n",
        "    # Прогоняем через дропаут\n",
        "    x = self.dropout(x, training=training)\n",
        "\n",
        "    # Входной слой embedding+ Позиционное кодирование\n",
        "    embedding_mask = self.embedding.compute_mask(inputs)\n",
        "\n",
        "    # Прогоним через Nx слоев кодера\n",
        "    for encoder_layer in self.encoder_layers: \n",
        "      x = encoder_layer(x, mask = embedding_mask)\n",
        "\n",
        "    return x\n",
        "\n",
        "  # Закомментируйте код ниже, если хотите использовать masked_loss()\n",
        "  def compute_mask(self, inputs, mask=None):\n",
        "    return self.embedding.compute_mask(inputs)"
      ],
      "execution_count": null,
      "outputs": []
    },
    {
      "cell_type": "markdown",
      "metadata": {
        "id": "tWn5jlsVum7Y"
      },
      "source": [
        "Создаем сам декодер из слоев, описанных выше (embedding, позиционное кодирование, пачки декодеров):"
      ]
    },
    {
      "cell_type": "code",
      "metadata": {
        "id": "AoyyU00JsPaH"
      },
      "source": [
        "class Decoder(tf.keras.layers.Layer):\n",
        "\n",
        "  def __init__(self, \n",
        "               target_vocab_size,                 # Размер словаря выходных данных\n",
        "               num_layers = 4,                    # Количество слоев декодера\n",
        "               d_model = 512,                     # Размерность емб. пространства\n",
        "               num_heads = 8,                     # Количество голов сети\n",
        "               dff = 2048,                        # Количество нейронов первого Dense слоя\n",
        "               maximum_position_encoding = 10000, # Максимальное число позиций\n",
        "               dropout = 0.0):                    # Значение Dropout\n",
        "    \n",
        "    super(Decoder, self).__init__()\n",
        "\n",
        "    self.d_model = d_model\n",
        "\n",
        "    self.embedding = tf.keras.layers.Embedding(target_vocab_size, # Пропишем слой Embedding\n",
        "                                               d_model, \n",
        "                                               mask_zero=True) \n",
        "    \n",
        "    self.pos = positional_encoding(maximum_position_encoding,     # Функция позиционного кодирования\n",
        "                                   d_model)                     \n",
        "\n",
        "    self.decoder_layers = [ DecoderLayer(d_model = d_model, \n",
        "                                         num_heads = num_heads, \n",
        "                                         dff = dff, \n",
        "                                         dropout = dropout)  for _ in range(num_layers)] # Список Nx слоев декодера \n",
        "\n",
        "    self.dropout = tf.keras.layers.Dropout(dropout)               # Слой дропаут\n",
        "\n",
        "  def call(self, inputs, mask=None, training=None):\n",
        "    \n",
        "    # Выполним переход в эмбеддинг\n",
        "    x = self.embedding(inputs[0]) \n",
        "    \n",
        "    # Позиционное кодирование\n",
        "    x *= tf.math.sqrt(tf.cast(self.d_model, tf.float32))\n",
        "    x += self.pos[: , :tf.shape(x)[1], :]\n",
        "    \n",
        "    # Просто dropout\n",
        "    x = self.dropout(x, training=training)\n",
        "    \n",
        "    # Входной слой embedding + Позиционное кодирование\n",
        "    embedding_mask = self.embedding.compute_mask(inputs[0])\n",
        "\n",
        "    # Прогоним через Nx слоев декодера\n",
        "    for decoder_layer in self.decoder_layers:\n",
        "      x = decoder_layer([x,inputs[1]], mask = [embedding_mask, mask])\n",
        "\n",
        "    return x\n",
        "\n",
        "  # Закомментируйте код ниже, если хотите использовать masked_loss()\n",
        "  def compute_mask(self, inputs, mask=None):\n",
        "    return self.embedding.compute_mask(inputs[0])"
      ],
      "execution_count": null,
      "outputs": []
    },
    {
      "cell_type": "markdown",
      "metadata": {
        "id": "NZvy540-fE2C"
      },
      "source": [
        "Соберем модель: 2 входных слоя, кодер, декодер, \n",
        "выходной dense:"
      ]
    },
    {
      "cell_type": "code",
      "metadata": {
        "colab": {
          "base_uri": "https://localhost:8080/"
        },
        "id": "l2UU7F63sR2W",
        "outputId": "9be10515-baac-47d9-b254-78c12cc48822"
      },
      "source": [
        "num_layers = 4 # Количество слоев\n",
        "d_model = 128  # Размерность емб. пространства\n",
        "dff = 512      # Количество нейронов первого Dense слоя\n",
        "num_heads = 8  # Количество голов\n",
        "\n",
        "dropout_rate = 0.1 # Значение Dropout\n",
        "\n",
        "input_vocab_size = tokenizer_pt.vocab_size + 2  # Индекс входного тега\n",
        "target_vocab_size = tokenizer_en.vocab_size + 2 # Индекс выходного тега\n",
        "\n",
        "\n",
        "input  = tf.keras.layers.Input(shape=(None,)) # Входной слой для переводимой фразы\n",
        "target = tf.keras.layers.Input(shape=(None,)) # Вход для перевода\n",
        "\n",
        "encoder = Encoder(input_vocab_size,           # Создаем энкодер\n",
        "                  num_layers = num_layers, \n",
        "                  d_model = d_model, \n",
        "                  num_heads = num_heads, \n",
        "                  dff = dff, \n",
        "                  dropout = dropout_rate)  \n",
        "\n",
        "decoder = Decoder(target_vocab_size,          # Создаем декодер\n",
        "                  num_layers = num_layers, \n",
        "                  d_model = d_model, \n",
        "                  num_heads = num_heads, \n",
        "                  dff = dff, \n",
        "                  dropout = dropout_rate) \n",
        "\n",
        "# Собираем модель \n",
        "x = encoder(input)\n",
        "x = decoder([target, x] , mask = encoder.compute_mask(input))\n",
        "x = tf.keras.layers.Dense(target_vocab_size)(x)\n",
        "\n",
        "# Формируем модель, выводим саммери\n",
        "model = tf.keras.models.Model(inputs=[input, target], outputs=x)\n",
        "model.summary()"
      ],
      "execution_count": null,
      "outputs": [
        {
          "output_type": "stream",
          "name": "stdout",
          "text": [
            "Model: \"model\"\n",
            "__________________________________________________________________________________________________\n",
            " Layer (type)                   Output Shape         Param #     Connected to                     \n",
            "==================================================================================================\n",
            " input_1 (InputLayer)           [(None, None)]       0           []                               \n",
            "                                                                                                  \n",
            " input_2 (InputLayer)           [(None, None)]       0           []                               \n",
            "                                                                                                  \n",
            " encoder (Encoder)              (None, None, 128)    1844736     ['input_1[0][0]']                \n",
            "                                                                                                  \n",
            " tf.math.not_equal (TFOpLambda)  (None, None)        0           ['input_1[0][0]']                \n",
            "                                                                                                  \n",
            " decoder (Decoder)              (None, None, 128)    2092672     ['input_2[0][0]',                \n",
            "                                                                  'encoder[0][0]',                \n",
            "                                                                  'tf.math.not_equal[0][0]']      \n",
            "                                                                                                  \n",
            " dense_64 (Dense)               (None, None, 8089)   1043481     ['decoder[0][0]']                \n",
            "                                                                                                  \n",
            "==================================================================================================\n",
            "Total params: 4,980,889\n",
            "Trainable params: 4,980,889\n",
            "Non-trainable params: 0\n",
            "__________________________________________________________________________________________________\n"
          ]
        }
      ]
    },
    {
      "cell_type": "markdown",
      "metadata": {
        "id": "bNdbJ45Wfd2R"
      },
      "source": [
        "Проверим работоспособность:"
      ]
    },
    {
      "cell_type": "code",
      "metadata": {
        "colab": {
          "base_uri": "https://localhost:8080/",
          "height": 287
        },
        "id": "IfBWHYgtsVK4",
        "outputId": "4e930240-1c31-4650-e0fb-b7d1fbf07971"
      },
      "source": [
        "# Возьмем пример данн\n",
        "pt_batch, en_batch = next(iter(val_dataset))\n",
        "\n",
        "# Выведем результат предсказания в виде тепловой карты\n",
        "plt.pcolormesh(model.predict([pt_batch,en_batch])[5],cmap='RdBu')\n",
        "plt.colorbar()\n",
        "\n",
        "# Размерность предикта\n",
        "model.predict([pt_batch,en_batch]).shape"
      ],
      "execution_count": null,
      "outputs": [
        {
          "output_type": "execute_result",
          "data": {
            "text/plain": [
              "(64, 40, 8089)"
            ]
          },
          "metadata": {},
          "execution_count": 26
        },
        {
          "output_type": "display_data",
          "data": {
            "image/png": "[encoded data removed]",
            "text/plain": [
              "<Figure size 432x288 with 2 Axes>"
            ]
          },
          "metadata": {
            "needs_background": "light"
          }
        }
      ]
    },
    {
      "cell_type": "markdown",
      "metadata": {
        "id": "0wiAmRyDj2mi"
      },
      "source": [
        "Класс CustomSchedule предназначен для создания собственных параметров оптимизатора. \n",
        "\n",
        "![image.png](data:image/png;base64,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)\n",
        "\n",
        "Этот подход называется \"Прогрев\" и благодаря такому изменению шага обучения, как изображен на графике выше, наш трансформер успешно обучается."
      ]
    },
    {
      "cell_type": "code",
      "metadata": {
        "id": "p80e0Wu8sYE6"
      },
      "source": [
        "class CustomSchedule(tf.keras.optimizers.schedules.LearningRateSchedule):\n",
        "    \n",
        "  def __init__(self, d_model, warmup_steps=4000):\n",
        "    super(CustomSchedule, self).__init__()\n",
        "\n",
        "    self.d_model = d_model\n",
        "    self.d_model = tf.cast(self.d_model, tf.float32)\n",
        "\n",
        "    self.warmup_steps = warmup_steps\n",
        "\n",
        "  def __call__(self, step):\n",
        "    arg1 = tf.math.rsqrt(step)\n",
        "    arg2 = step * (self.warmup_steps ** -1.5)\n",
        "    return tf.math.rsqrt(self.d_model) * tf.math.minimum(arg1, arg2)"
      ],
      "execution_count": null,
      "outputs": []
    },
    {
      "cell_type": "markdown",
      "metadata": {
        "id": "0rfkHGFofm5I"
      },
      "source": [
        "Задаем оптимайзер, функцию потерь, метрики и компилируем модель"
      ]
    },
    {
      "cell_type": "code",
      "metadata": {
        "id": "lEw7v5insgBS"
      },
      "source": [
        "# Оптимайзер \n",
        "optimizer = tf.keras.optimizers.Adam(CustomSchedule(d_model), \n",
        "                                     beta_1=0.9, \n",
        "                                     beta_2=0.98, \n",
        "                                     epsilon=1e-9)\n",
        "# Функция потерь\n",
        "loss = tf.keras.losses.SparseCategoricalCrossentropy(\n",
        "    from_logits=True, reduction='none')\n",
        "\n",
        "# Мы рассчитываем потери, используя предопределенную целевую функцию, \n",
        "# а затем дополняем ее маской.\n",
        "\n",
        "def masked_loss(y_true, y_pred):\n",
        "\n",
        "  # Считаем маску  \n",
        "  mask = tf.math.logical_not(tf.math.equal(y_true, 0))\n",
        "  _loss = loss(y_true, y_pred)\n",
        "\n",
        "  mask = tf.cast(mask, dtype=_loss.dtype)\n",
        "\n",
        "  # Накинем маску на потери  \n",
        "  _loss *= mask\n",
        "\n",
        "  return tf.reduce_sum(_loss)/tf.reduce_sum(mask)\n",
        "\n",
        "metrics = [loss, masked_loss, tf.keras.metrics.SparseCategoricalAccuracy()]\n",
        "\n",
        "model.compile(optimizer=optimizer, loss = loss, metrics = metrics) # masked_"
      ],
      "execution_count": null,
      "outputs": []
    },
    {
      "cell_type": "markdown",
      "metadata": {
        "id": "m3P24jwCfwgY"
      },
      "source": [
        "Проверим число батчей для обучения и проверки:"
      ]
    },
    {
      "cell_type": "code",
      "metadata": {
        "colab": {
          "base_uri": "https://localhost:8080/"
        },
        "id": "1LqO3IhAsiUh",
        "outputId": "e31bb545-716d-44d0-b949-f45411b08ced"
      },
      "source": [
        "# Количество батчей для обучения\n",
        "num_batches = 0\n",
        "for (batch, (_,_)) in enumerate(train_dataset):\n",
        "  num_batches = batch\n",
        "print(num_batches)\n",
        "\n",
        "# Количество батчей для проверки\n",
        "val_batches = 0\n",
        "for (batch, (_,_)) in enumerate(val_dataset):\n",
        "  val_batches = batch\n",
        "print(val_batches)"
      ],
      "execution_count": null,
      "outputs": [
        {
          "output_type": "stream",
          "name": "stdout",
          "text": [
            "702\n",
            "16\n"
          ]
        }
      ]
    },
    {
      "cell_type": "markdown",
      "metadata": {
        "id": "VoaphoWef-6l"
      },
      "source": [
        "Напишем генератор. По номеру будем получать батч данных для обучения, запустим обучение:"
      ]
    },
    {
      "cell_type": "markdown",
      "metadata": {
        "id": "c3OVndBa2Ttl"
      },
      "source": [
        "Функция generator() принимает на вход данные и посредством генератора (конструкции while_yeld) получает из данных по батчу на каждой итерации, при этом не заполняя память."
      ]
    },
    {
      "cell_type": "code",
      "metadata": {
        "colab": {
          "base_uri": "https://localhost:8080/"
        },
        "id": "RoWgLVK-skQN",
        "outputId": "e699a9d3-9901-4ca0-ec59-342d14235f88"
      },
      "source": [
        "def generator(data_set):\n",
        "    \n",
        "  while True:\n",
        "    for pt_batch, en_batch in data_set:\n",
        "      yield ( [pt_batch , en_batch[:, :-1] ] , en_batch[:, 1:] )\n",
        "\n",
        "# При помощи генератора запускаем обучение\n",
        "history = model.fit(x = generator(train_dataset),              # Данные для обучения\n",
        "                    validation_data = generator(val_dataset),  # Данные для проверки\n",
        "                    epochs=2,                                  # Количество эпох\n",
        "                    steps_per_epoch = num_batches,             # Количество батчей\n",
        "                    validation_steps = val_batches)            # Батчи на проверку"
      ],
      "execution_count": null,
      "outputs": [
        {
          "output_type": "stream",
          "name": "stdout",
          "text": [
            "Epoch 1/2\n",
            "702/702 [==============================] - 52s 74ms/step - loss: 0.6453 - sparse_categorical_crossentropy: 1.2959 - masked_loss: 1.3685 - sparse_categorical_accuracy: 0.7133 - val_loss: 1.0840 - val_sparse_categorical_crossentropy: 2.2093 - val_masked_loss: 2.3367 - val_sparse_categorical_accuracy: 0.6303\n",
            "Epoch 2/2\n",
            "702/702 [==============================] - 52s 74ms/step - loss: 0.6292 - sparse_categorical_crossentropy: 1.2639 - masked_loss: 1.3347 - sparse_categorical_accuracy: 0.7178 - val_loss: 1.0783 - val_sparse_categorical_crossentropy: 2.1977 - val_masked_loss: 2.3245 - val_sparse_categorical_accuracy: 0.6366\n"
          ]
        }
      ]
    },
    {
      "cell_type": "markdown",
      "metadata": {
        "id": "3EgdKVZLgby1"
      },
      "source": [
        "## Prediction\n",
        "На кодер подаем исходную фразу, токен start на декодер - предиктим первое слово.\n",
        "Выход декодера подаем на его вход и предиктим второе слово. \n",
        "Второе слово дописываем к первому, и подаем на вход декодера.\n",
        "Процедура останавливается, как только токен stop получен.\n",
        "Переведенная фраза без токенов start/stop декодируется в текст.\n",
        "\n",
        "Проверим качество перевода. Выведем вместе предикченных перевод и эталонную фразу"
      ]
    },
    {
      "cell_type": "code",
      "metadata": {
        "id": "HLRzE3eqsqy9",
        "colab": {
          "base_uri": "https://localhost:8080/"
        },
        "outputId": "3557672f-f13f-41b9-f5f6-a3f6c58990dc"
      },
      "source": [
        "# Возьмем первые 10 значений данных\n",
        "for i in range(10):\n",
        "  translation = [tokenizer_en.vocab_size]\n",
        "\n",
        "  # Пройдём по каждому токену (максимум 40)\n",
        "  for _ in range(40):\n",
        "    predict = model.predict([pt_batch[i:i+1],np.asarray([translation])]) # Делаем предикт\n",
        "    translation.append(np.argmax(predict[-1,-1]))                        # Ищем индекс токена\n",
        "    if translation[-1] == tokenizer_en.vocab_size + 1:                   # Если предсказан выходной тег, то заканчиваем цикл\n",
        "      break\n",
        "  \n",
        "  # Переводим фразу из индексов в слова и выводим на экран\n",
        "  real_translation = []\n",
        "  for w in en_batch[:,1:][i].numpy():\n",
        "    if w == tokenizer_en.vocab_size + 1:\n",
        "      break\n",
        "    real_translation.append(w)\n",
        "  print('Реальный перевод:     ', tokenizer_en.decode(real_translation))\n",
        "  print('Перевод трансформером:', tokenizer_en.decode(translation[1:-1]))\n",
        "  print(\"\")"
      ],
      "execution_count": null,
      "outputs": [
        {
          "output_type": "stream",
          "name": "stdout",
          "text": [
            "Реальный перевод:      did they eat fish and chips ?\n",
            "Перевод трансформером: did you have fish with frirks frirks ?\n",
            "\n",
            "Реальный перевод:      i was always worried about being caught and sent back .\n",
            "Перевод трансформером: i was always worried about being caught and sent back .\n",
            "\n",
            "Реальный перевод:      i chose one with the skin color of a lobster when sunburnt .\n",
            "Перевод трансформером: i chose a sample of blood jeff blood lake .\n",
            "\n",
            "Реальный перевод:      but i think this is quite clearly untrue .\n",
            "Перевод трансформером: but i think this is clearly real .\n",
            "\n",
            "Реальный перевод:      we have measured our progress very rigorously .\n",
            "Перевод трансформером: we have to measure our most stricted progress and applle .\n",
            "\n",
            "Реальный перевод:      and from what i feel , it 's a cure for me , but for us all .\n",
            "Перевод трансформером: and in my opinion , it 's not only a cure for me , but for everybody .\n",
            "\n",
            "Реальный перевод:      it 's a work in progress from a personal story to a global history .\n",
            "Перевод трансформером: it 's a work in development of a personal history for a global story .\n",
            "\n",
            "Реальный перевод:      i mean , it 's just a losing proposition .\n",
            "Перевод трансформером: i mean , it 's a lost proposal .\n",
            "\n",
            "Реальный перевод:      so , how do we have these conversations more easily and more often ?\n",
            "Перевод трансформером: so how do we have these more easily and more times ?\n",
            "\n",
            "Реальный перевод:      and issue rogue certificates .\n",
            "Перевод трансформером: and they shed false aid .\n",
            "\n"
          ]
        }
      ]
    },
    {
      "cell_type": "markdown",
      "metadata": {
        "id": "O_HIKiO0iiUf"
      },
      "source": [
        "Почитаем фразы - смысл уже можно уловить, но хотелось бы лучше..."
      ]
    },
    {
      "cell_type": "markdown",
      "source": [
        "**Содержание темы**\n",
        "\n",
        "1. [Теория](https://colab.research.google.com/drive/1DbTJLU3qGEcyeZFtWbvUhD_59iTtnEEC?usp=sharing)\n",
        "\n",
        "2. Практика"
      ],
      "metadata": {
        "id": "9Tuuz-YRh4lv"
      }
    }
  ]
}