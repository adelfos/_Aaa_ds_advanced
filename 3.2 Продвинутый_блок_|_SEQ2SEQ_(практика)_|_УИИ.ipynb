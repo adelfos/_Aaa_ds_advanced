{
  "nbformat": 4,
  "nbformat_minor": 0,
  "metadata": {
    "colab": {
      "name": "Продвинутый блок | SEQ2SEQ (практика) | УИИ",
      "provenance": [],
      "collapsed_sections": [],
      "machine_shape": "hm",
      "include_colab_link": true
    },
    "kernelspec": {
      "name": "python3",
      "display_name": "Python 3"
    },
    "language_info": {
      "name": "python"
    },
    "accelerator": "GPU"
  },
  "cells": [
    {
      "cell_type": "markdown",
      "metadata": {
        "id": "view-in-github",
        "colab_type": "text"
      },
      "source": [
        "<a href=\"https://colab.research.google.com/github/adelfos/ds_advanced/blob/main/3.2%20%D0%9F%D1%80%D0%BE%D0%B4%D0%B2%D0%B8%D0%BD%D1%83%D1%82%D1%8B%D0%B9_%D0%B1%D0%BB%D0%BE%D0%BA_%7C_SEQ2SEQ_(%D0%BF%D1%80%D0%B0%D0%BA%D1%82%D0%B8%D0%BA%D0%B0)_%7C_%D0%A3%D0%98%D0%98.ipynb\" target=\"_parent\"><img src=\"https://colab.research.google.com/assets/colab-badge.svg\" alt=\"Open In Colab\"/></a>"
      ]
    },
    {
      "cell_type": "markdown",
      "metadata": {
        "id": "nH1qsHSh9CF7"
      },
      "source": [
        "**Содержание темы**\n",
        "\n",
        "1. [Теория](https://colab.research.google.com/drive/1C72Oa4WU_Tq5lwYfru3lFndo7DD61LSX?)\n",
        "\n",
        "2. Практика\n"
      ]
    },
    {
      "cell_type": "markdown",
      "metadata": {
        "id": "uWZXChuVXHOO"
      },
      "source": [
        "Начните с подключения необходимых библиотек и модулей. В ходе занятия вы подробнее разберете их назначение."
      ]
    },
    {
      "cell_type": "code",
      "metadata": {
        "id": "9JwSbyp6ldqI"
      },
      "source": [
        "# Подключим модуль для загрузки файлов в colab\n",
        "from google.colab import files\n",
        "\n",
        "# Подключим модуль numpy для работы с массивами\n",
        "import numpy as np\n",
        "\n",
        "# Подгрузим модели кераса\n",
        "from tensorflow.keras.models import Model, load_model\n",
        "\n",
        "# Подключим нужные слои\n",
        "from tensorflow.keras.layers import Dense, Embedding, LSTM, Input\n",
        "\n",
        "# Поключим оптимайзеры\n",
        "from tensorflow.keras.optimizers import RMSprop, Adadelta\n",
        "\n",
        "# Подключим метод ограничения последовательности заданной длиной\n",
        "from tensorflow.keras.preprocessing.sequence import pad_sequences\n",
        "\n",
        "# Подключим токенайзер\n",
        "from tensorflow.keras.preprocessing.text import Tokenizer\n",
        "\n",
        "# Подключим модуль для one hot кодировки\n",
        "from tensorflow.keras import utils\n",
        "\n",
        "# Подключим визуализацию графа модели\n",
        "from tensorflow.keras.utils import plot_model\n",
        "\n",
        "# Подключим модуль для работы с yaml - файлами\n",
        "import yaml"
      ],
      "execution_count": null,
      "outputs": []
    },
    {
      "cell_type": "code",
      "metadata": {
        "id": "5BsiTmZxlw3r",
        "colab": {
          "base_uri": "https://localhost:8080/"
        },
        "outputId": "26ea0d41-aa1d-4404-8e24-72dd957a3e75"
      },
      "source": [
        "# Загрузим обучающие тексты\n",
        "\n",
        "!wget  http://www.manythings.org/anki/rus-eng.zip"
      ],
      "execution_count": null,
      "outputs": [
        {
          "output_type": "stream",
          "name": "stdout",
          "text": [
            "--2022-01-30 11:13:10--  http://www.manythings.org/anki/rus-eng.zip\n",
            "Resolving www.manythings.org (www.manythings.org)... 104.21.92.44, 172.67.186.54, 2606:4700:3033::ac43:ba36, ...\n",
            "Connecting to www.manythings.org (www.manythings.org)|104.21.92.44|:80... connected.\n",
            "HTTP request sent, awaiting response... 200 OK\n",
            "Length: 14683939 (14M) [application/zip]\n",
            "Saving to: ‘rus-eng.zip’\n",
            "\n",
            "rus-eng.zip         100%[===================>]  14.00M  --.-KB/s    in 0.1s    \n",
            "\n",
            "2022-01-30 11:13:10 (124 MB/s) - ‘rus-eng.zip’ saved [14683939/14683939]\n",
            "\n"
          ]
        }
      ]
    },
    {
      "cell_type": "code",
      "metadata": {
        "id": "UjmadRZluEW8",
        "colab": {
          "base_uri": "https://localhost:8080/"
        },
        "outputId": "c3729a6d-77ce-43c2-96b6-dde0bc1b12d1"
      },
      "source": [
        "# Убедимся, что файл со текстами загружен\n",
        "!ls"
      ],
      "execution_count": null,
      "outputs": [
        {
          "output_type": "stream",
          "name": "stdout",
          "text": [
            "rus-eng.zip  sample_data\n"
          ]
        }
      ]
    },
    {
      "cell_type": "code",
      "metadata": {
        "id": "0FFRCgRYtpce",
        "colab": {
          "base_uri": "https://localhost:8080/"
        },
        "outputId": "e7e6e096-f3fd-454a-95e4-11caa51a0294"
      },
      "source": [
        "# Распакуем архив\n",
        "!unzip -o rus-eng.zip "
      ],
      "execution_count": null,
      "outputs": [
        {
          "output_type": "stream",
          "name": "stdout",
          "text": [
            "Archive:  rus-eng.zip\n",
            "  inflating: rus.txt                 \n",
            "  inflating: _about.txt              \n"
          ]
        }
      ]
    },
    {
      "cell_type": "markdown",
      "metadata": {
        "id": "lB0Rc7uHXfjM"
      },
      "source": [
        "Читаем из файла 50000 пар русских и английских предложений. Каждая строка содержит английское, русское предложения и служебные данные об источнике информации. Нам нужны только предложения:"
      ]
    },
    {
      "cell_type": "code",
      "metadata": {
        "id": "cl7xc-a2l2UJ"
      },
      "source": [
        "conversations = []                                # Заготовим список для пар фраз\n",
        "\n",
        "with open(\"rus.txt\", 'r', encoding='utf-8') as f: # Открываем файл словаря в режиме чтения\n",
        "    lines = f.read().split('\\n')                  # Читаем весь файл, режем на строки\n",
        "\n",
        "# Цикл по строкам\n",
        "for i,line in enumerate(lines):\n",
        "    \n",
        "    if i>50000:                                         # Нам нужно только 50000 первых строк\n",
        "      break                                             # Заканчиваем цикл\n",
        "    try:\n",
        "        input_text, target_text,_ = line.split(\"\\t\")    # Берем очередную строку, режем по символу табуляции\n",
        "        conversations.append([input_text, target_text]) # Заполняем список пар фраз\n",
        "    except:\n",
        "        continue                                        # если не получается - идем за следущей строкой"
      ],
      "execution_count": null,
      "outputs": []
    },
    {
      "cell_type": "markdown",
      "metadata": {
        "id": "dWoO0SPKXpJy"
      },
      "source": [
        "Определим функцию для удаления пробелов перед знаками препинаний. На вход принимает строку или список строк. Выбрасывает пробелы перед знаками препинаний. Возвращает также строку или список строк"
      ]
    },
    {
      "cell_type": "code",
      "metadata": {
        "id": "EEjCtIubm0WH"
      },
      "source": [
        "def my_replacer(s):  \n",
        "\n",
        "    ''' Функция для удаления пробелов перед знаками препинания\n",
        "\n",
        "        Args: строка или список строк\n",
        "\n",
        "        Returns: строка или список строк\n",
        "    '''\n",
        "\n",
        "    if isinstance(s,str): # Если получили строку\n",
        "\n",
        "        # Убираем перед знаками препинания пробел и возвращаем\n",
        "        return s.replace(' .','.').replace(' ,',',').replace(' !','!').replace(' ?','?')\n",
        "\n",
        "    if isinstance(s,list): # Если получили список\n",
        "        ou=[]              # Заготовим пустой список\n",
        "\n",
        "        for l in s:        # Цикл по строкам из списка\n",
        "            ou.append(l.replace(' .','.').replace(' ,',',').replace(' !','!').replace(' ?','?')) # Убираем перед знаками препинания пробел и возвращаем\n",
        "\n",
        "        # Вернем список строк\n",
        "        return ou    "
      ],
      "execution_count": null,
      "outputs": []
    },
    {
      "cell_type": "markdown",
      "metadata": {
        "id": "NE5HYfVKX1US"
      },
      "source": [
        "Файл с русскими и английскими выражениями часто может быть поврежден или составлен небрежно. К сожалению так бывает. Фразы могут быть получены автоматически из самых разных текстов, в различных форматах и кодировках. Часто просто нет времени проконтроллировать данных процесс, вычитать полученные предложения. \n",
        "\n",
        "Почистим выражения, добавим тэги `< start >` `< end >` к ответам:"
      ]
    },
    {
      "cell_type": "code",
      "metadata": {
        "id": "9Bm0AKcim066",
        "colab": {
          "base_uri": "https://localhost:8080/"
        },
        "outputId": "08f3802a-ccc0-4466-da62-9723531d9a93"
      },
      "source": [
        "# Собираем вопросы и ответы в списки\n",
        "\n",
        "questions = [] # Переменная для списка входных фраз\n",
        "answers = []   # Переменная для списка ответных фраз\n",
        "\n",
        "# Цикл по всем парам фраз \n",
        "for con in conversations:                 \n",
        "  \n",
        "    if len(con) > 1 :                       # Если ответная фраза содержит более одно двух предложений\n",
        "        questions.append(my_replacer(con[0])) # То первую в списке фразу отправляем в список входных фраз\n",
        "        replies = my_replacer(con[1:])        # А ответную составляем из последующих строк\n",
        "        ans = ' '.join(replies)               # Здесь соберем ответ\n",
        "        answers.append(ans)                   # Добавим в список ответов\n",
        "    else:\n",
        "        continue                              # Иначе идем на новой парой фраз\n",
        "\n",
        "# Добавим в каждую ответную фразу теги  <START> и <END>\n",
        "answers = ['<START> ' + s + ' <END>' for s in answers]\n",
        "\n",
        "# Выведем обновленные данные на экран\n",
        "print('Вопрос : {}'.format(questions[111])) # Пример входной фразы\n",
        "print('Ответ : {}'.format(answers[111]))    # Пример ответной фразы"
      ],
      "execution_count": null,
      "outputs": [
        {
          "output_type": "stream",
          "name": "stdout",
          "text": [
            "Вопрос : Go now.\n",
            "Ответ : <START> Иди сейчас. <END>\n"
          ]
        }
      ]
    },
    {
      "cell_type": "code",
      "source": [
        "len(questions)"
      ],
      "metadata": {
        "colab": {
          "base_uri": "https://localhost:8080/"
        },
        "id": "wlKmQpfxskql",
        "outputId": "a1408c13-10e4-4e08-9040-de9a01b206f2"
      },
      "execution_count": null,
      "outputs": [
        {
          "output_type": "execute_result",
          "data": {
            "text/plain": [
              "50001"
            ]
          },
          "metadata": {},
          "execution_count": 8
        }
      ]
    },
    {
      "cell_type": "markdown",
      "metadata": {
        "id": "G254tOSdYJcj"
      },
      "source": [
        "Создадим токенайзер из библиотеки Keras. В нашем случае токенайзер просто проиндексирует слова по уменьшению частоты появления и  удалит символы \"#$%&()*+-/;<=>@[\\\\]^_`{|}~\\t\\n\n"
      ]
    },
    {
      "cell_type": "code",
      "metadata": {
        "id": "cXWLmtgwnf_P",
        "colab": {
          "base_uri": "https://localhost:8080/"
        },
        "outputId": "5bc30ead-7170-4424-b74e-2512d819f075"
      },
      "source": [
        "# Создадим токенайзер \n",
        "tokenizer = Tokenizer(filters='\"#$%&()*+-/;<=>@[\\\\]^_`{|}~\\t\\n',split=' ')  \n",
        "\n",
        "# Загружаем в токенизатор список фраз для сборки словаря частотности\n",
        "tokenizer.fit_on_texts(questions + answers)         \n",
        "\n",
        "# Список с cодержимым словаря\n",
        "vocabularyItems = list(tokenizer.word_index.items())    \n",
        "\n",
        "# Размер словаря\n",
        "vocabularySize = len(vocabularyItems)+1        \n",
        "\n",
        "# Выведем фрагмент и размер словаря\n",
        "print( 'Фрагмент словаря : {}'.format(vocabularyItems[:50]))       \n",
        "print( 'Размер словаря : {}'.format(vocabularySize))             "
      ],
      "execution_count": null,
      "outputs": [
        {
          "output_type": "stream",
          "name": "stdout",
          "text": [
            "Фрагмент словаря : [('start', 1), ('end', 2), ('я', 3), ('i', 4), ('tom', 5), ('том', 6), ('не', 7), ('это', 8), ('you', 9), ('is', 10), ('a', 11), (\"i'm\", 12), ('ты', 13), ('мы', 14), ('мне', 15), ('the', 16), ('it', 17), ('was', 18), ('we', 19), ('to', 20), ('вы', 21), ('у', 22), ('do', 23), ('it.', 24), ('в', 25), ('он', 26), ('меня', 27), ('tom.', 28), ('my', 29), (\"it's\", 30), ('you.', 31), (\"don't\", 32), ('are', 33), ('can', 34), ('me.', 35), ('did', 36), (\"you're\", 37), ('your', 38), ('he', 39), ('они', 40), ('на', 41), ('был', 42), ('this', 43), ('have', 44), ('что', 45), ('not', 46), ('go', 47), (\"i'll\", 48), ('that', 49), ('be', 50)]\n",
            "Размер словаря : 26464\n"
          ]
        }
      ]
    },
    {
      "cell_type": "markdown",
      "metadata": {
        "id": "O_2p6ElGYqww"
      },
      "source": [
        "А теперь от слов к цифрам: "
      ]
    },
    {
      "cell_type": "code",
      "metadata": {
        "id": "Z7jhZ6I7nj-l",
        "colab": {
          "base_uri": "https://localhost:8080/"
        },
        "outputId": "28d7035a-86e0-4c4f-d554-b12b9dca6b5e"
      },
      "source": [
        "# Разбиваем текст входных фраз на последовательности индексов\n",
        "tokenizedQuestions = tokenizer.texts_to_sequences(questions)\n",
        "\n",
        "# Уточняем длину самой длинной фразы\n",
        "maxLenQuestions = max([ len(x) for x in tokenizedQuestions])\n",
        "\n",
        "# Делаем последовательности одной длины, заполняя нулями более короткие фразы\n",
        "paddedQuestions = pad_sequences(tokenizedQuestions, maxlen=maxLenQuestions, padding='post')\n",
        "\n",
        "# Предподготавливаем данные для входа в сеть, переводим в numpy массив\n",
        "encoderForInput = np.array(paddedQuestions)        \n",
        "\n",
        "# Выведем на экран\n",
        "print('Пример входной фразы                         : {}'.format(questions[100]))         \n",
        "print('Пример кодированной входной фразу            : {}'.format(encoderForInput[100]))  \n",
        "print('Размеры закодированного массива входных фраз : {}'.format(encoderForInput.shape))  \n",
        "print('Установленная длина входных фраз             : {}'.format(maxLenQuestions))        "
      ],
      "execution_count": null,
      "outputs": [
        {
          "output_type": "stream",
          "name": "stdout",
          "text": [
            "Пример входной фразы                         : Freeze!\n",
            "Пример кодированной входной фразу            : [6316    0    0    0    0    0]\n",
            "Размеры закодированного массива входных фраз : (50001, 6)\n",
            "Установленная длина входных фраз             : 6\n"
          ]
        }
      ]
    },
    {
      "cell_type": "markdown",
      "metadata": {
        "id": "mGXX3vrPf4Tg"
      },
      "source": [
        "Те же манипуляции с выходными данными для обучения:"
      ]
    },
    {
      "cell_type": "code",
      "metadata": {
        "id": "ic46XLxmnmTS",
        "colab": {
          "base_uri": "https://localhost:8080/"
        },
        "outputId": "8617ebc7-9d2f-4229-c741-3c6c6b3a25ee"
      },
      "source": [
        "# Разбиваем текст ответных фраз на последовательности индексов\n",
        "tokenizedAnswers = tokenizer.texts_to_sequences(answers) \n",
        "\n",
        "# Уточняем длину самого длинного ответа\n",
        "maxLenAnswers = max([len(x) for x in tokenizedAnswers])\n",
        "\n",
        "# Делаем последовательности одной длины, заполняя нулями более ответы\n",
        "paddedAnswers = pad_sequences(tokenizedAnswers, maxlen=maxLenAnswers, padding='post')\n",
        "\n",
        "# Предподготавливаем данные для входа в сеть, переводим в numpy массив\n",
        "decoderForInput = np.array(paddedAnswers)               \n",
        "\n",
        "# Выведем на экран\n",
        "print('Пример оригинального ответа на вход: {}'.format(answers[100]))                         \n",
        "print('Пример кодированного ответа на вход : {}'.format(decoderForInput[100][:30]))           \n",
        "print('Размеры кодированного массива ответов на вход : {}'.format(decoderForInput.shape))     \n",
        "print('Установленная длина ответов на вход : {}'.format(maxLenAnswers))                       "
      ],
      "execution_count": null,
      "outputs": [
        {
          "output_type": "stream",
          "name": "stdout",
          "text": [
            "Пример оригинального ответа на вход: <START> Ни с места! <END>\n",
            "Пример кодированного ответа на вход : [    1  1058    60 11561     2     0     0     0     0     0     0     0]\n",
            "Размеры кодированного массива ответов на вход : (50001, 12)\n",
            "Установленная длина ответов на вход : 12\n"
          ]
        }
      ]
    },
    {
      "cell_type": "markdown",
      "metadata": {
        "id": "F6rTRqXQhd_j"
      },
      "source": [
        "Те же манипуляции с выходными данными для проверки. Убирает тег `< start >`. \n",
        "\n",
        "Сетка не будет выдавать фразы с этим тэгом, поэтому и контрольные фразы должны быть без него: "
      ]
    },
    {
      "cell_type": "code",
      "metadata": {
        "id": "ZG6zfN2ZnoR_"
      },
      "source": [
        "# Разбиваем текст ответов на последовательности индексов\n",
        "tokenizedAnswers = tokenizer.texts_to_sequences(answers) \n",
        "\n",
        "for i in range(len(tokenizedAnswers)) :                  # Для разбитых на последовательности ответов\n",
        "    tokenizedAnswers[i] = tokenizedAnswers[i][1:]          # Избавляемся от тега <START>\n",
        "\n",
        "# Делаем последовательности одной длины, заполняя нулями более короткие ответы\n",
        "paddedAnswers = pad_sequences(tokenizedAnswers, maxlen=maxLenAnswers , padding='post') \n",
        "\n",
        "# И сохраняем в виде массива numpy\n",
        "decoderForOutput = np.array(paddedAnswers)                                             "
      ],
      "execution_count": null,
      "outputs": []
    },
    {
      "cell_type": "code",
      "metadata": {
        "id": "k8MeXs5NnrDI",
        "colab": {
          "base_uri": "https://localhost:8080/"
        },
        "outputId": "de6dccaa-c7bf-402e-eac4-c83a8a267802"
      },
      "source": [
        "# Выведем на экран\n",
        "\n",
        "print('Пример кодированного ответа на вход : {}'.format(decoderForInput[100][:21]))   \n",
        "print('Пример кодированного ответа на выход : {}'.format(decoderForOutput[100][:21]))\n",
        "print('Размеры кодированного массива ответов на выход : {}'.format(decoderForOutput.shape))  \n",
        "print('Установленная длина вопросов на выход : {}'.format(maxLenAnswers))                    "
      ],
      "execution_count": null,
      "outputs": [
        {
          "output_type": "stream",
          "name": "stdout",
          "text": [
            "Пример кодированного ответа на вход : [    1  1058    60 11561     2     0     0     0     0     0     0     0]\n",
            "Пример кодированного ответа на выход : [ 1058    60 11561     2     0     0     0     0     0     0     0     0]\n",
            "Размеры кодированного массива ответов на выход : (50001, 12)\n",
            "Установленная длина вопросов на выход : 12\n"
          ]
        }
      ]
    },
    {
      "cell_type": "markdown",
      "metadata": {
        "id": "z97aBK_UZDH8"
      },
      "source": [
        "Создадим энкодер. Он состоит из входного слоя, Embedding-а и одной LSTM. \n",
        "\n",
        "На его вход будет подавать предложение,  которое нужно перевести. На выходе - векторы состояния. Они являются исходной информацией для декодера."
      ]
    },
    {
      "cell_type": "code",
      "metadata": {
        "id": "qDNMte7cns1A"
      },
      "source": [
        "# Создадим энкодер \n",
        "\n",
        "encoderInputs = Input(shape=(None , ))                                             # Добавим входной слой\n",
        "encoderEmbedding = Embedding(vocabularySize, 200 , mask_zero=True)(encoderInputs)  # Добавим эмбеддинг\n",
        "encoderOutputs, state_h , state_c = LSTM(200, return_state=True)(encoderEmbedding) # Добавим LSTM\n",
        "encoderStates = [state_h, state_c]                                                 # Соберем выходы lstm  в список    "
      ],
      "execution_count": null,
      "outputs": []
    },
    {
      "cell_type": "markdown",
      "metadata": {
        "id": "lN9oz5HVZ5DN"
      },
      "source": [
        "Вторая часть нейронки - это декодер. Он также содержит входной слой, Embedding и одну LSTM. \n",
        "\n",
        "На входе обучающая фраза, на выходе предсказанное слово - в виде длинного-длинного массива One-Hot-Encoding (OHE). \n",
        "\n",
        "Массив выглядит `'0,0,0,0,1,0,0,0,0,0,0'`, где позиция единички указывает на индекс слова, присвоенный токенайзером"
      ]
    },
    {
      "cell_type": "code",
      "metadata": {
        "id": "0y9Y9ZqrnwLu"
      },
      "source": [
        "# Создадим декодер \n",
        "\n",
        "decoderInputs = Input(shape=(None, ))                                                # Добавим входной слой\n",
        "decoderEmbedding = Embedding(vocabularySize, 200, mask_zero=True) (decoderInputs)    # Добавим эмбеддинг\n",
        "decoderLSTM = LSTM(200, return_state=True, return_sequences=True)                    # Создадим LSTM слой\n",
        "decoderOutputs , _ , _ = decoderLSTM (decoderEmbedding, initial_state=encoderStates) # Прогоним выход embedding через LSTM\n",
        "decoderDense = Dense(vocabularySize, activation='softmax')                           # Создадим dense слой\n",
        "output = decoderDense (decoderOutputs)                                               # Прогоним  выход LSTM через DENSE"
      ],
      "execution_count": null,
      "outputs": []
    },
    {
      "cell_type": "markdown",
      "metadata": {
        "id": "Zvdnneyzbe_D"
      },
      "source": [
        "Пора собирать кодер и декодер вместе. \n",
        "\n",
        "Посмотрим на структуру построенный сети. Заметим, что при обучении будем минимизировать sparse_categorical_crossentropy. \n",
        "\n",
        "Часто, при предсказании дискретных классов используют известную вам categorical_crossentropy. Для ее использовании слова обучающей выборки слова  необходимо преобразовывать в OHE. Все бы хорошо, но для хранения одного слова придется потратить очень много памяти. Вместо одного значения - 1 единицу и кучу нулей, по числу возможных слов. \n",
        "\n",
        "Sparse_categorical_crossentropy - позволяет хранить 1 токен. При обучении он сам развернет обучающее слово в OHE"
      ]
    },
    {
      "cell_type": "code",
      "metadata": {
        "id": "-nUYagRLnwko"
      },
      "source": [
        "# Собираем модель\n",
        "\n",
        "model = Model([encoderInputs, decoderInputs], output)"
      ],
      "execution_count": null,
      "outputs": []
    },
    {
      "cell_type": "code",
      "metadata": {
        "id": "FLDHVdcIoltf"
      },
      "source": [
        "# Компилиуем модель\n",
        "\n",
        "model.compile(optimizer=RMSprop(), loss='sparse_categorical_crossentropy')"
      ],
      "execution_count": null,
      "outputs": []
    },
    {
      "cell_type": "code",
      "metadata": {
        "id": "usHiPpGzojZ9",
        "colab": {
          "base_uri": "https://localhost:8080/"
        },
        "outputId": "3ad577aa-f3ab-4526-afa9-a210dde0b2df"
      },
      "source": [
        "# Выведем на экран информацию о построенной модели нейросети\n",
        "\n",
        "print(model.summary())  "
      ],
      "execution_count": null,
      "outputs": [
        {
          "output_type": "stream",
          "name": "stdout",
          "text": [
            "Model: \"model_3\"\n",
            "__________________________________________________________________________________________________\n",
            " Layer (type)                   Output Shape         Param #     Connected to                     \n",
            "==================================================================================================\n",
            " input_5 (InputLayer)           [(None, None)]       0           []                               \n",
            "                                                                                                  \n",
            " input_6 (InputLayer)           [(None, None)]       0           []                               \n",
            "                                                                                                  \n",
            " embedding_2 (Embedding)        (None, None, 200)    5292800     ['input_5[0][0]']                \n",
            "                                                                                                  \n",
            " embedding_3 (Embedding)        (None, None, 200)    5292800     ['input_6[0][0]']                \n",
            "                                                                                                  \n",
            " lstm_2 (LSTM)                  [(None, 200),        320800      ['embedding_2[0][0]']            \n",
            "                                 (None, 200),                                                     \n",
            "                                 (None, 200)]                                                     \n",
            "                                                                                                  \n",
            " lstm_3 (LSTM)                  [(None, None, 200),  320800      ['embedding_3[0][0]',            \n",
            "                                 (None, 200),                     'lstm_2[0][1]',                 \n",
            "                                 (None, 200)]                     'lstm_2[0][2]']                 \n",
            "                                                                                                  \n",
            " dense_1 (Dense)                (None, None, 26464)  5319264     ['lstm_3[0][0]']                 \n",
            "                                                                                                  \n",
            "==================================================================================================\n",
            "Total params: 16,546,464\n",
            "Trainable params: 16,546,464\n",
            "Non-trainable params: 0\n",
            "__________________________________________________________________________________________________\n",
            "None\n"
          ]
        }
      ]
    },
    {
      "cell_type": "code",
      "metadata": {
        "id": "HqM1TJgUogeF",
        "colab": {
          "base_uri": "https://localhost:8080/",
          "height": 466
        },
        "outputId": "c120777a-d750-4cee-fe75-dfde19340d44"
      },
      "source": [
        "# Построим график для визуализации слоев и связей между ними\n",
        "\n",
        "plot_model(model, to_file='model.png')"
      ],
      "execution_count": null,
      "outputs": [
        {
          "output_type": "execute_result",
          "data": {
            "image/png": "[encoded data removed]",
            "text/plain": [
              "<IPython.core.display.Image object>"
            ]
          },
          "metadata": {},
          "execution_count": 38
        }
      ]
    },
    {
      "cell_type": "markdown",
      "metadata": {
        "id": "UvT72V_0bpCN"
      },
      "source": [
        "Пора обучаться. И не забудем сохранить обученную модель на диске"
      ]
    },
    {
      "cell_type": "code",
      "metadata": {
        "id": "WcT0PuS9nysP",
        "colab": {
          "base_uri": "https://localhost:8080/"
        },
        "outputId": "a99b97d7-ab6c-4861-e2ce-12516121b646"
      },
      "source": [
        "# Запустим обучение\n",
        "model.fit([encoderForInput , decoderForInput], decoderForOutput, batch_size=256, epochs=30) \n",
        "\n",
        "# Сохраним модель на диске\n",
        "model.save( 'content/model_30epochs(rms).h5' )"
      ],
      "execution_count": null,
      "outputs": [
        {
          "output_type": "stream",
          "name": "stdout",
          "text": [
            "Epoch 1/30\n",
            "196/196 [==============================] - 8s 40ms/step - loss: 0.4792\n",
            "Epoch 2/30\n",
            "196/196 [==============================] - 8s 39ms/step - loss: 0.4710\n",
            "Epoch 3/30\n",
            "196/196 [==============================] - 8s 39ms/step - loss: 0.4622\n",
            "Epoch 4/30\n",
            "196/196 [==============================] - 8s 40ms/step - loss: 0.4532\n",
            "Epoch 5/30\n",
            "196/196 [==============================] - 8s 39ms/step - loss: 0.4453\n",
            "Epoch 6/30\n",
            "196/196 [==============================] - 8s 39ms/step - loss: 0.4393\n",
            "Epoch 7/30\n",
            "196/196 [==============================] - 8s 39ms/step - loss: 0.4331\n",
            "Epoch 8/30\n",
            "196/196 [==============================] - 8s 39ms/step - loss: 0.4270\n",
            "Epoch 9/30\n",
            "196/196 [==============================] - 8s 40ms/step - loss: 0.4214\n",
            "Epoch 10/30\n",
            "196/196 [==============================] - 8s 39ms/step - loss: 0.4156\n",
            "Epoch 11/30\n",
            "196/196 [==============================] - 8s 39ms/step - loss: 0.4101\n",
            "Epoch 12/30\n",
            "196/196 [==============================] - 8s 39ms/step - loss: 0.4043\n",
            "Epoch 13/30\n",
            "196/196 [==============================] - 8s 39ms/step - loss: 0.3986\n",
            "Epoch 14/30\n",
            "196/196 [==============================] - 8s 39ms/step - loss: 0.3920\n",
            "Epoch 15/30\n",
            "196/196 [==============================] - 8s 39ms/step - loss: 0.3859\n",
            "Epoch 16/30\n",
            "196/196 [==============================] - 8s 39ms/step - loss: 0.3806\n",
            "Epoch 17/30\n",
            "196/196 [==============================] - 8s 39ms/step - loss: 0.3754\n",
            "Epoch 18/30\n",
            "196/196 [==============================] - 8s 39ms/step - loss: 0.3710\n",
            "Epoch 19/30\n",
            "196/196 [==============================] - 8s 39ms/step - loss: 0.3661\n",
            "Epoch 20/30\n",
            "196/196 [==============================] - 8s 39ms/step - loss: 0.3613\n",
            "Epoch 21/30\n",
            "196/196 [==============================] - 8s 39ms/step - loss: 0.3566\n",
            "Epoch 22/30\n",
            "196/196 [==============================] - 8s 39ms/step - loss: 0.3518\n",
            "Epoch 23/30\n",
            "196/196 [==============================] - 8s 39ms/step - loss: 0.3470\n",
            "Epoch 24/30\n",
            "196/196 [==============================] - 8s 39ms/step - loss: 0.3423\n",
            "Epoch 25/30\n",
            "196/196 [==============================] - 8s 39ms/step - loss: 0.3372\n",
            "Epoch 26/30\n",
            "196/196 [==============================] - 8s 39ms/step - loss: 0.3324\n",
            "Epoch 27/30\n",
            "196/196 [==============================] - 8s 39ms/step - loss: 0.3283\n",
            "Epoch 28/30\n",
            "196/196 [==============================] - 8s 39ms/step - loss: 0.3239\n",
            "Epoch 29/30\n",
            "196/196 [==============================] - 8s 39ms/step - loss: 0.3193\n",
            "Epoch 30/30\n",
            "196/196 [==============================] - 8s 39ms/step - loss: 0.3148\n"
          ]
        }
      ]
    },
    {
      "cell_type": "code",
      "metadata": {
        "id": "LQpGBXUNvfGC"
      },
      "source": [
        "# Сохраним веса модели\n",
        "model.save_weights('s2s_30epochs.h5')"
      ],
      "execution_count": null,
      "outputs": []
    },
    {
      "cell_type": "markdown",
      "metadata": {
        "id": "9dp6nuHCb4E6"
      },
      "source": [
        "Уменьшающиеся при обучении лоссы - это хорошо, но оценить качество переведенных фраз может (пока что)  человек -  носитель языка.\n",
        "Давайте перестроим нашу модель для перевода."
      ]
    },
    {
      "cell_type": "markdown",
      "metadata": {
        "id": "F9xFNMwBpU2P"
      },
      "source": [
        "Создадим рабочие модели для перевода.\n",
        "\n",
        "В теле функции производится сборка сети для перевода фраз из уже обученных слоев.\n",
        "\n",
        "1. Энкодер оставляем как есть  для задачи seq2seq он не меняется\n",
        "2. Декодеру на вход подаем финальные состояния энкодера.Пропускаем через предобученный ранее LSTM и Dense слои\n",
        "Возвращает модели энкодера и декодера"
      ]
    },
    {
      "cell_type": "code",
      "metadata": {
        "id": "2pbCDz6In033"
      },
      "source": [
        "def makeInferenceModels():\n",
        "\n",
        "    ''' Функция сборки сети для перевода фраз из уже обученных слов\n",
        "\n",
        "        Args: -\n",
        "\n",
        "        Returns: модели энкодера и декодера   \n",
        "    '''    \n",
        "\n",
        "    # Создадим модель кодера, на входе далее будут закодированные вопросы, на выходе состояния state_h, state_c\n",
        "    encoderModel = Model(encoderInputs, encoderStates) \n",
        "\n",
        "    # Создадим модель декодера\n",
        "    decoderStateInput_h = Input(shape=(200 ,)) # Добавим входной слой для state_h\n",
        "    decoderStateInput_c = Input(shape=(200 ,)) # Добавим входной слой для state_c\n",
        "\n",
        "    # Соберем оба inputs вместе и запишем в decoderStatesInputs\n",
        "    decoderStatesInputs = [decoderStateInput_h, decoderStateInput_c] \n",
        "\n",
        "    # Берём ответы, прошедшие через эмбединг, вместе с состояниями и подаём LSTM cлою\n",
        "    decoderOutputs, state_h, state_c = decoderLSTM(decoderEmbedding, initial_state=decoderStatesInputs) \n",
        "    \n",
        "    # LSTM даст нам новые состояния\n",
        "    decoderStates = [state_h, state_c]            \n",
        "    \n",
        "    # И ответы, которые мы пропустим через полносвязный слой с софтмаксом\n",
        "    decoderOutputs = decoderDense(decoderOutputs) \n",
        "\n",
        "    # Определим модель декодера, на входе далее будут раскодированные ответы (decoderForInputs) и состояния\n",
        "    # на выходе предсказываемый ответ и новые состояния\n",
        "    decoderModel = Model([decoderInputs] + decoderStatesInputs, [decoderOutputs] + decoderStates)\n",
        "\n",
        "    # Вернем рабочие модели энкодера и декодера  \n",
        "    return encoderModel , decoderModel"
      ],
      "execution_count": null,
      "outputs": []
    },
    {
      "cell_type": "markdown",
      "metadata": {
        "id": "7w1SdrcZWAHn"
      },
      "source": [
        "Сервисная функция для перевода произвольной фразы в токены. Функция разбирает фразу на слова. Для каждого слова находит свой индекс. Его подскажет токенайзер. И дополняет полученный список индексов нулями до максимальной длины.\n",
        "Используется для подготовки фразы к ее переводу.\n",
        "Принимает на вход строку, отдает список токенов"
      ]
    },
    {
      "cell_type": "code",
      "metadata": {
        "id": "fzsCtJfFn261"
      },
      "source": [
        "def strToTokens(sentence: str):      \n",
        "\n",
        "    ''' Функция для удаления пробелов перед знаками препинания\n",
        "\n",
        "        Args: фраза\n",
        "\n",
        "        Returns: список токенов\n",
        "    '''\n",
        "\n",
        "    # Почистим фразу\n",
        "    tmp_sent = my_replacer(sentence)  \n",
        "    \n",
        "    # Приведем предложение к нижнему регистру и разбирает на слова\n",
        "    words = tmp_sent.lower().split()  \n",
        "    \n",
        "    # Создадим список для последовательности токенов/индексов\n",
        "    tokensList = list()               \n",
        "\n",
        "    # Для каждого слова в предложении\n",
        "    for word in words:\n",
        "        \n",
        "        try:\n",
        "            tokensList.append(tokenizer.word_index[word]) # Определяем токенайзером индекс и добавляем в список\n",
        "        except:\n",
        "            pass # Слова нет - просто игнорируем его\n",
        "\n",
        "    # Вернёт входную фразу в виде последовательности индексов\n",
        "    if tokensList:\n",
        "        return pad_sequences([tokensList], maxlen=maxLenQuestions , padding='post')\n",
        "\n",
        "    # Фраза из незнакомых слов - вернем None \n",
        "    return None"
      ],
      "execution_count": null,
      "outputs": []
    },
    {
      "cell_type": "code",
      "metadata": {
        "colab": {
          "base_uri": "https://localhost:8080/"
        },
        "id": "r6Oa6j7Fe9Ye",
        "outputId": "2a297b30-8fa2-474a-d4c0-28de12efaca0"
      },
      "source": [
        "import numpy as np\n",
        "emptyTargetSeq = np.zeros((1, 1))\n",
        "\n",
        "\n",
        "emptyTargetSeq[0, 0] = 5\n",
        "\n",
        "emptyTargetSeq"
      ],
      "execution_count": null,
      "outputs": [
        {
          "output_type": "execute_result",
          "data": {
            "text/plain": [
              "array([[5.]])"
            ]
          },
          "metadata": {},
          "execution_count": 27
        }
      ]
    },
    {
      "cell_type": "markdown",
      "metadata": {
        "id": "PXtp9Yc1dHWm"
      },
      "source": [
        "Запускаем функцию для построения модели кодера и декодера"
      ]
    },
    {
      "cell_type": "code",
      "metadata": {
        "id": "8FLuVC7XsIGI"
      },
      "source": [
        "encModel , decModel = makeInferenceModels() "
      ],
      "execution_count": null,
      "outputs": []
    },
    {
      "cell_type": "markdown",
      "metadata": {
        "id": "zeujebMKcT5m"
      },
      "source": [
        "Начинаем перевод текстов. Нейронка попросит на вход 6 (лучше простеньких) фраз и выдаст то, что она об этом думает. Работаем в цикле.\n",
        "\n",
        "Начнем с подготовки:\n",
        "\n",
        "- Сначала запросим фразу у пользователя, переведем ее в токены при помощи функции `strToTokens()` и поместим результат в переменную `qua`. \n",
        "- Проверим, не состоит ли фраза из полностью незнакомых слов.\n",
        "- Создадим массив `emptyTargetSeq` вида [[0.]], поместим в его начало слово `start` в виде индекса. \n",
        "- Определим условие остановки генерации `stopCondition` \n",
        "- Создадим переменную `decodedTranslation` для сборки ответа\n",
        "- Прогоним фразу через энкодер и поместим результат в переменную `statesValues`\n",
        "\n",
        "Далее, пока не сработало стоп-условие, в модель декодера подаем пустую последовательность со словом 'start' и состояния, предсказанные кодером по заданному вопросу. Декодер заменит слово 'start' предсказанным сгенерированным словом и обновит состояния. Поместим результат в переменные `decOutputs , h , c`.\n",
        "\n",
        "Обработаем предсказанное слово функцией `np.argmax`, получим его индекс и поместим резуьтат в переменную `sampledWordIndex`.\n",
        "\n",
        "Создадим переменную `sampledWord` для слов, преобразованных в естественный язык.\n",
        "\n",
        "Переберем в цикле все индексы токенайзера, и если индекс выбранного слова соответствует какому-то индексу из словаря, то слово, идущее под этим индексом в словаре, добавляется в итоговый ответ. Плюс выбранное слово фиксируем в переменную sampledWord. Если выбранным словом оказывается 'end' либо если сгенерированный ответ превышает заданную максимальную длину ответа - срабатывает стоп-условие и прекращаем генерацию.\n",
        "\n",
        "Создаем пустой массив, заносим в него индекс выбранного слова. Сохраняем в список `statesValues` состояния, обновленные декодером.\n",
        "\n",
        "Выводим ответ сгенерированный декодером."
      ]
    },
    {
      "cell_type": "code",
      "metadata": {
        "colab": {
          "base_uri": "https://localhost:8080/"
        },
        "id": "9B9sAeCNM8UQ",
        "outputId": "de0d45df-2539-42e5-9d8f-8bf163902d05"
      },
      "source": [
        "# Цикл по количеству входных фраз - их 6\n",
        "\n",
        "for _ in range(6):\n",
        "\n",
        "    # подготовка\n",
        "    \n",
        "    qua  = strToTokens(input('Исходное предложение на английском: '))\n",
        "    if qua is None:                                      \n",
        "        print (\"а вот спросите меня о чем-нить полезном: \")  # Выдадим дежурную фразу\n",
        "        continue                                             # Пойдем за следущей фразой\n",
        "\n",
        "    emptyTargetSeq = np.zeros((1, 1))                    \n",
        "    emptyTargetSeq[0, 0] = tokenizer.word_index['start'] \n",
        "    stopCondition = False                                \n",
        "    decodedTranslation = '' \n",
        "    statesValues = encModel.predict(qua)                              \n",
        "\n",
        "    # пока не сработало стоп-условие\n",
        "    while not stopCondition:                             \n",
        "\n",
        "        # В модель декодера подадим пустую последовательность со словом 'start' и состояния\n",
        "        decOutputs , h , c = decModel.predict([emptyTargetSeq] + statesValues)\n",
        "        # Получим индекс предсказанного слова.\n",
        "        sampledWordIndex = np.argmax( decOutputs[0, 0, :]) \n",
        "        # Создаем переменную для преобразованных на естественный язык слов\n",
        "        sampledWord = None                                 \n",
        "\n",
        "        # Переберем в цикле все индексы токенайзера\n",
        "        for word, index in tokenizer.word_index.items():\n",
        "        \n",
        "            # Если индекс выбранного слова соответствует какому-то индексу из словаря\n",
        "            if sampledWordIndex == index:              \n",
        "                # Слово, идущее под этим индексом в словаре, добавляется в итоговый ответ \n",
        "                decodedTranslation += ' {}'.format(word) \n",
        "                # Выбранное слово фиксируем в переменную sampledWord\n",
        "                sampledWord = word                       \n",
        "        \n",
        "        # Если выбранным словом оказывается 'end' либо если сгенерированный ответ превышает заданную максимальную длину ответа\n",
        "        if sampledWord == 'end' or len(decodedTranslation.split()) > maxLenAnswers:\n",
        "            stopCondition = True # Срабатывает стоп-условие и прекращаем генерацию\n",
        "\n",
        "        # Создаем пустой массив\n",
        "        emptyTargetSeq = np.zeros((1, 1))       \n",
        "        \n",
        "        # Заносим в него индекс выбранного слова\n",
        "        emptyTargetSeq[0, 0] = sampledWordIndex \n",
        "        \n",
        "        # Записываем состояния, обновленные декодером \n",
        "        statesValues = [h, c]   \n",
        "\n",
        "        # И продолжаем цикл с обновленными параметрами                \n",
        "                                                \n",
        "    # Выводим ответ сгенерированный декодером\n",
        "    print(\"Перевод: \", decodedTranslation) "
      ],
      "execution_count": null,
      "outputs": [
        {
          "output_type": "stream",
          "name": "stdout",
          "text": [
            "Исходное предложение на английском: what is your name?\n",
            "Перевод:   как твоё имя? end\n",
            "Исходное предложение на английском: How are you?\n",
            "Перевод:   как у вас дела? end\n",
            "Исходное предложение на английском: what are you doing?\n",
            "Перевод:   что ты будешь делает? end\n",
            "Исходное предложение на английском: how old are you?\n",
            "Перевод:   сколько вам лет? end\n",
            "Исходное предложение на английском: what is your mood today?\n",
            "Перевод:   как твой имя? end\n",
            "Исходное предложение на английском: are you angry?\n",
            "Перевод:   ты злишься? end\n"
          ]
        }
      ]
    },
    {
      "cell_type": "markdown",
      "metadata": {
        "id": "gFc-MoTjqs5X"
      },
      "source": [
        "Что сказать... Фразы подчас смешные, но общий смысл уже где-то рядом..."
      ]
    },
    {
      "cell_type": "markdown",
      "metadata": {
        "id": "fZO3qjIF9Njp"
      },
      "source": [
        "**Содержание темы**\n",
        "\n",
        "1. [Теория](https://colab.research.google.com/drive/1C72Oa4WU_Tq5lwYfru3lFndo7DD61LSX?authuser=1#scrollTo=nH1qsHSh9CF7)\n",
        "\n",
        "2. Практика\n"
      ]
    }
  ]
}